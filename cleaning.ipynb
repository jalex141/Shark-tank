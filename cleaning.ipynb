{
 "cells": [
  {
   "cell_type": "markdown",
   "id": "08c9733e",
   "metadata": {},
   "source": [
    "\n",
    "# Shark Tank"
   ]
  },
  {
   "cell_type": "markdown",
   "id": "011c5d8c",
   "metadata": {},
   "source": [
    "## imports"
   ]
  },
  {
   "cell_type": "code",
   "execution_count": 1,
   "id": "ada28e87",
   "metadata": {},
   "outputs": [],
   "source": [
    "import pandas as pd\n",
    "import seaborn as sns\n",
    "import re\n",
    "import sys\n",
    "sys.path.append('../')\n",
    "\n",
    "import src.date_format as dt\n",
    "import src.moon_ph as m"
   ]
  },
  {
   "cell_type": "markdown",
   "id": "02a63758",
   "metadata": {},
   "source": [
    "## load data"
   ]
  },
  {
   "cell_type": "code",
   "execution_count": 2,
   "id": "d9285318",
   "metadata": {},
   "outputs": [],
   "source": [
    "sh = pd.read_csv('./attacks.csv',encoding=\"ISO-8859-1\")\n",
    "#sh.head()"
   ]
  },
  {
   "cell_type": "markdown",
   "id": "f8956fad",
   "metadata": {},
   "source": [
    "## Limpiar columnas"
   ]
  },
  {
   "cell_type": "code",
   "execution_count": 3,
   "id": "f9c70970",
   "metadata": {},
   "outputs": [],
   "source": [
    "#fix col names\n",
    "diccio_todas = {col: col.replace(\" \",\"_\")  for col in list(sh.columns)}\n",
    "sh.rename(columns=diccio_todas, inplace=True)\n"
   ]
  },
  {
   "cell_type": "code",
   "execution_count": 4,
   "id": "5030c1cd",
   "metadata": {},
   "outputs": [],
   "source": [
    "#drop unnecessary cols\n",
    "sh.drop([\"Unnamed:_22\",\"Unnamed:_23\", \"Case_Number.1\",\"Case_Number.2\",\"href_formula\",\"href\",\"pdf\"], axis=1, inplace=True)"
   ]
  },
  {
   "cell_type": "code",
   "execution_count": 5,
   "id": "f5b1df49",
   "metadata": {},
   "outputs": [
    {
     "data": {
      "text/plain": [
       "(25723, 17)"
      ]
     },
     "execution_count": 5,
     "metadata": {},
     "output_type": "execute_result"
    }
   ],
   "source": [
    "sh.shape"
   ]
  },
  {
   "cell_type": "code",
   "execution_count": 6,
   "id": "c6684247",
   "metadata": {},
   "outputs": [
    {
     "data": {
      "text/html": [
       "<div>\n",
       "<style scoped>\n",
       "    .dataframe tbody tr th:only-of-type {\n",
       "        vertical-align: middle;\n",
       "    }\n",
       "\n",
       "    .dataframe tbody tr th {\n",
       "        vertical-align: top;\n",
       "    }\n",
       "\n",
       "    .dataframe thead th {\n",
       "        text-align: right;\n",
       "    }\n",
       "</style>\n",
       "<table border=\"1\" class=\"dataframe\">\n",
       "  <thead>\n",
       "    <tr style=\"text-align: right;\">\n",
       "      <th></th>\n",
       "      <th>Case_Number</th>\n",
       "      <th>Date</th>\n",
       "      <th>Year</th>\n",
       "      <th>Type</th>\n",
       "      <th>Country</th>\n",
       "      <th>Area</th>\n",
       "      <th>Location</th>\n",
       "      <th>Activity</th>\n",
       "      <th>Name</th>\n",
       "      <th>Sex_</th>\n",
       "      <th>Age</th>\n",
       "      <th>Injury</th>\n",
       "      <th>Fatal_(Y/N)</th>\n",
       "      <th>Time</th>\n",
       "      <th>Species_</th>\n",
       "      <th>Investigator_or_Source</th>\n",
       "      <th>original_order</th>\n",
       "    </tr>\n",
       "  </thead>\n",
       "  <tbody>\n",
       "    <tr>\n",
       "      <th>0</th>\n",
       "      <td>2018.06.25</td>\n",
       "      <td>25-Jun-2018</td>\n",
       "      <td>2018.0</td>\n",
       "      <td>Boating</td>\n",
       "      <td>USA</td>\n",
       "      <td>California</td>\n",
       "      <td>Oceanside, San Diego County</td>\n",
       "      <td>Paddling</td>\n",
       "      <td>Julie Wolfe</td>\n",
       "      <td>F</td>\n",
       "      <td>57</td>\n",
       "      <td>No injury to occupant, outrigger canoe and pad...</td>\n",
       "      <td>N</td>\n",
       "      <td>18h00</td>\n",
       "      <td>White shark</td>\n",
       "      <td>R. Collier, GSAF</td>\n",
       "      <td>6303.0</td>\n",
       "    </tr>\n",
       "    <tr>\n",
       "      <th>1</th>\n",
       "      <td>2018.06.18</td>\n",
       "      <td>18-Jun-2018</td>\n",
       "      <td>2018.0</td>\n",
       "      <td>Unprovoked</td>\n",
       "      <td>USA</td>\n",
       "      <td>Georgia</td>\n",
       "      <td>St. Simon Island, Glynn County</td>\n",
       "      <td>Standing</td>\n",
       "      <td>Adyson McNeely</td>\n",
       "      <td>F</td>\n",
       "      <td>11</td>\n",
       "      <td>Minor injury to left thigh</td>\n",
       "      <td>N</td>\n",
       "      <td>14h00  -15h00</td>\n",
       "      <td>NaN</td>\n",
       "      <td>K.McMurray, TrackingSharks.com</td>\n",
       "      <td>6302.0</td>\n",
       "    </tr>\n",
       "  </tbody>\n",
       "</table>\n",
       "</div>"
      ],
      "text/plain": [
       "  Case_Number         Date    Year        Type Country        Area  \\\n",
       "0  2018.06.25  25-Jun-2018  2018.0     Boating     USA  California   \n",
       "1  2018.06.18  18-Jun-2018  2018.0  Unprovoked     USA     Georgia   \n",
       "\n",
       "                         Location  Activity             Name Sex_ Age  \\\n",
       "0     Oceanside, San Diego County  Paddling      Julie Wolfe    F  57   \n",
       "1  St. Simon Island, Glynn County  Standing  Adyson McNeely     F  11   \n",
       "\n",
       "                                              Injury Fatal_(Y/N)  \\\n",
       "0  No injury to occupant, outrigger canoe and pad...           N   \n",
       "1                         Minor injury to left thigh           N   \n",
       "\n",
       "            Time     Species_          Investigator_or_Source  original_order  \n",
       "0          18h00  White shark                R. Collier, GSAF          6303.0  \n",
       "1  14h00  -15h00          NaN  K.McMurray, TrackingSharks.com          6302.0  "
      ]
     },
     "execution_count": 6,
     "metadata": {},
     "output_type": "execute_result"
    }
   ],
   "source": [
    "#work data frame\n",
    "sh.head(2)"
   ]
  },
  {
   "cell_type": "markdown",
   "id": "9d8059c4",
   "metadata": {},
   "source": [
    "## Clean the data\n",
    "### NAN values\n"
   ]
  },
  {
   "cell_type": "code",
   "execution_count": 7,
   "id": "48d859ec",
   "metadata": {},
   "outputs": [
    {
     "data": {
      "text/plain": [
       "Case_Number               17021\n",
       "Date                      19421\n",
       "Year                      19423\n",
       "Type                      19425\n",
       "Country                   19471\n",
       "Area                      19876\n",
       "Location                  19961\n",
       "Activity                  19965\n",
       "Name                      19631\n",
       "Sex_                      19986\n",
       "Age                       22252\n",
       "Injury                    19449\n",
       "Fatal_(Y/N)               19960\n",
       "Time                      22775\n",
       "Species_                  22259\n",
       "Investigator_or_Source    19438\n",
       "original_order            19414\n",
       "dtype: int64"
      ]
     },
     "execution_count": 7,
     "metadata": {},
     "output_type": "execute_result"
    }
   ],
   "source": [
    "sh.isnull().sum()"
   ]
  },
  {
   "cell_type": "markdown",
   "id": "8308fbe5",
   "metadata": {},
   "source": [
    "## drop NaN rows"
   ]
  },
  {
   "cell_type": "code",
   "execution_count": 8,
   "id": "b6210f20",
   "metadata": {},
   "outputs": [],
   "source": [
    "sh.dropna(axis=0, how = \"all\",inplace=True)"
   ]
  },
  {
   "cell_type": "code",
   "execution_count": 9,
   "id": "2b34d7c6",
   "metadata": {},
   "outputs": [
    {
     "data": {
      "text/plain": [
       "(8703, 17)"
      ]
     },
     "execution_count": 9,
     "metadata": {},
     "output_type": "execute_result"
    }
   ],
   "source": [
    "sh.shape"
   ]
  },
  {
   "cell_type": "code",
   "execution_count": 10,
   "id": "4d8eb4ee",
   "metadata": {},
   "outputs": [],
   "source": [
    "sh.drop_duplicates(inplace=True)"
   ]
  },
  {
   "cell_type": "code",
   "execution_count": 11,
   "id": "48ee7e94",
   "metadata": {},
   "outputs": [
    {
     "data": {
      "text/plain": [
       "(6311, 17)"
      ]
     },
     "execution_count": 11,
     "metadata": {},
     "output_type": "execute_result"
    }
   ],
   "source": [
    "sh.shape"
   ]
  },
  {
   "cell_type": "code",
   "execution_count": 12,
   "id": "f59d11c8",
   "metadata": {},
   "outputs": [
    {
     "data": {
      "text/plain": [
       "(6288, 17)"
      ]
     },
     "execution_count": 12,
     "metadata": {},
     "output_type": "execute_result"
    }
   ],
   "source": [
    "sh.drop_duplicates(subset=['Case_Number'],inplace=True)\n",
    "sh.shape"
   ]
  },
  {
   "cell_type": "markdown",
   "id": "e3852f8f",
   "metadata": {},
   "source": [
    "## ask for odd cases *"
   ]
  },
  {
   "cell_type": "code",
   "execution_count": 13,
   "id": "8d557234",
   "metadata": {},
   "outputs": [],
   "source": [
    "sh.drop([6302,25722], axis=0, inplace=True)"
   ]
  },
  {
   "cell_type": "code",
   "execution_count": 14,
   "id": "12d02d7b",
   "metadata": {},
   "outputs": [
    {
     "data": {
      "text/plain": [
       "(6286, 17)"
      ]
     },
     "execution_count": 14,
     "metadata": {},
     "output_type": "execute_result"
    }
   ],
   "source": [
    "sh.shape"
   ]
  },
  {
   "cell_type": "markdown",
   "id": "b65919b3",
   "metadata": {},
   "source": [
    "## fill NaN values"
   ]
  },
  {
   "cell_type": "code",
   "execution_count": 15,
   "id": "c49d42a4",
   "metadata": {},
   "outputs": [
    {
     "data": {
      "text/plain": [
       "0       2018.0\n",
       "1       2018.0\n",
       "2       2018.0\n",
       "3       2018.0\n",
       "4       2018.0\n",
       "         ...  \n",
       "6297       0.0\n",
       "6298       0.0\n",
       "6299       0.0\n",
       "6300       0.0\n",
       "6301       0.0\n",
       "Name: Year, Length: 6286, dtype: float64"
      ]
     },
     "execution_count": 15,
     "metadata": {},
     "output_type": "execute_result"
    }
   ],
   "source": [
    "sh.Year.interpolate(method='linear', limit_direction='forward', axis=0)"
   ]
  },
  {
   "cell_type": "markdown",
   "id": "8b1121a0",
   "metadata": {},
   "source": [
    "### fix year"
   ]
  },
  {
   "cell_type": "code",
   "execution_count": 16,
   "id": "d2ec9d65",
   "metadata": {},
   "outputs": [],
   "source": [
    "sh[\"Year\"] = sh.Date.apply(dt.get_year)"
   ]
  },
  {
   "cell_type": "markdown",
   "id": "d34412a1",
   "metadata": {},
   "source": [
    "### pick object columns  **"
   ]
  },
  {
   "cell_type": "code",
   "execution_count": 17,
   "id": "0f4e762a",
   "metadata": {},
   "outputs": [
    {
     "name": "stdout",
     "output_type": "stream",
     "text": [
      "['Case_Number', 'Date', 'Year', 'Type', 'Country', 'Area', 'Location', 'Activity', 'Name', 'Sex_', 'Age', 'Injury', 'Fatal_(Y/N)', 'Time', 'Species_', 'Investigator_or_Source']\n"
     ]
    }
   ],
   "source": [
    "string = list(sh.select_dtypes(include=\"object\").columns) \n",
    "print(string)"
   ]
  },
  {
   "cell_type": "code",
   "execution_count": 18,
   "id": "d5c4ff8a",
   "metadata": {},
   "outputs": [],
   "source": [
    "#sh[string].fillna(\"unknown\", inplace=True)\n",
    "#sh.tail(6)"
   ]
  },
  {
   "cell_type": "markdown",
   "id": "ca14e6fa",
   "metadata": {},
   "source": [
    "## done the fools way"
   ]
  },
  {
   "cell_type": "code",
   "execution_count": 19,
   "id": "b148e0f0",
   "metadata": {
    "scrolled": true
   },
   "outputs": [],
   "source": [
    "sh.fillna(\"UNKNOWN\",inplace=True)"
   ]
  },
  {
   "cell_type": "markdown",
   "id": "a0618104",
   "metadata": {},
   "source": [
    "## Invalid Type is unusable data"
   ]
  },
  {
   "cell_type": "code",
   "execution_count": 20,
   "id": "277e6c6e",
   "metadata": {},
   "outputs": [
    {
     "data": {
      "text/plain": [
       "array(['Boating', 'Unprovoked', 'Invalid', 'Provoked', 'Questionable',\n",
       "       'Sea Disaster', 'UNKNOWN', 'Boat', 'Boatomg'], dtype=object)"
      ]
     },
     "execution_count": 20,
     "metadata": {},
     "output_type": "execute_result"
    }
   ],
   "source": [
    "sh.Type.unique()"
   ]
  },
  {
   "cell_type": "code",
   "execution_count": 21,
   "id": "02c19617",
   "metadata": {},
   "outputs": [
    {
     "data": {
      "text/plain": [
       "(5743, 17)"
      ]
     },
     "execution_count": 21,
     "metadata": {},
     "output_type": "execute_result"
    }
   ],
   "source": [
    "sh = sh[sh[\"Type\"] != \"Invalid\"]\n",
    "sh.shape\n"
   ]
  },
  {
   "cell_type": "code",
   "execution_count": 22,
   "id": "3c638a03",
   "metadata": {},
   "outputs": [
    {
     "data": {
      "text/html": [
       "<div>\n",
       "<style scoped>\n",
       "    .dataframe tbody tr th:only-of-type {\n",
       "        vertical-align: middle;\n",
       "    }\n",
       "\n",
       "    .dataframe tbody tr th {\n",
       "        vertical-align: top;\n",
       "    }\n",
       "\n",
       "    .dataframe thead th {\n",
       "        text-align: right;\n",
       "    }\n",
       "</style>\n",
       "<table border=\"1\" class=\"dataframe\">\n",
       "  <thead>\n",
       "    <tr style=\"text-align: right;\">\n",
       "      <th></th>\n",
       "      <th>Case_Number</th>\n",
       "      <th>Date</th>\n",
       "      <th>Year</th>\n",
       "      <th>Type</th>\n",
       "      <th>Country</th>\n",
       "      <th>Area</th>\n",
       "      <th>Location</th>\n",
       "      <th>Activity</th>\n",
       "      <th>Name</th>\n",
       "      <th>Sex_</th>\n",
       "      <th>Age</th>\n",
       "      <th>Injury</th>\n",
       "      <th>Fatal_(Y/N)</th>\n",
       "      <th>Time</th>\n",
       "      <th>Species_</th>\n",
       "      <th>Investigator_or_Source</th>\n",
       "      <th>original_order</th>\n",
       "    </tr>\n",
       "  </thead>\n",
       "  <tbody>\n",
       "    <tr>\n",
       "      <th>0</th>\n",
       "      <td>2018.06.25</td>\n",
       "      <td>25-Jun-2018</td>\n",
       "      <td>2018</td>\n",
       "      <td>Boating</td>\n",
       "      <td>USA</td>\n",
       "      <td>California</td>\n",
       "      <td>Oceanside, San Diego County</td>\n",
       "      <td>Paddling</td>\n",
       "      <td>Julie Wolfe</td>\n",
       "      <td>F</td>\n",
       "      <td>57</td>\n",
       "      <td>No injury to occupant, outrigger canoe and pad...</td>\n",
       "      <td>N</td>\n",
       "      <td>18h00</td>\n",
       "      <td>White shark</td>\n",
       "      <td>R. Collier, GSAF</td>\n",
       "      <td>6303.0</td>\n",
       "    </tr>\n",
       "    <tr>\n",
       "      <th>1</th>\n",
       "      <td>2018.06.18</td>\n",
       "      <td>18-Jun-2018</td>\n",
       "      <td>2018</td>\n",
       "      <td>Unprovoked</td>\n",
       "      <td>USA</td>\n",
       "      <td>Georgia</td>\n",
       "      <td>St. Simon Island, Glynn County</td>\n",
       "      <td>Standing</td>\n",
       "      <td>Adyson McNeely</td>\n",
       "      <td>F</td>\n",
       "      <td>11</td>\n",
       "      <td>Minor injury to left thigh</td>\n",
       "      <td>N</td>\n",
       "      <td>14h00  -15h00</td>\n",
       "      <td>UNKNOWN</td>\n",
       "      <td>K.McMurray, TrackingSharks.com</td>\n",
       "      <td>6302.0</td>\n",
       "    </tr>\n",
       "    <tr>\n",
       "      <th>3</th>\n",
       "      <td>2018.06.08</td>\n",
       "      <td>08-Jun-2018</td>\n",
       "      <td>2018</td>\n",
       "      <td>Unprovoked</td>\n",
       "      <td>AUSTRALIA</td>\n",
       "      <td>New South Wales</td>\n",
       "      <td>Arrawarra Headland</td>\n",
       "      <td>Surfing</td>\n",
       "      <td>male</td>\n",
       "      <td>M</td>\n",
       "      <td>UNKNOWN</td>\n",
       "      <td>Minor injury to lower leg</td>\n",
       "      <td>N</td>\n",
       "      <td>UNKNOWN</td>\n",
       "      <td>2 m shark</td>\n",
       "      <td>B. Myatt, GSAF</td>\n",
       "      <td>6300.0</td>\n",
       "    </tr>\n",
       "    <tr>\n",
       "      <th>4</th>\n",
       "      <td>2018.06.04</td>\n",
       "      <td>04-Jun-2018</td>\n",
       "      <td>2018</td>\n",
       "      <td>Provoked</td>\n",
       "      <td>MEXICO</td>\n",
       "      <td>Colima</td>\n",
       "      <td>La Ticla</td>\n",
       "      <td>Free diving</td>\n",
       "      <td>Gustavo Ramos</td>\n",
       "      <td>M</td>\n",
       "      <td>UNKNOWN</td>\n",
       "      <td>Lacerations to leg &amp; hand shark PROVOKED INCIDENT</td>\n",
       "      <td>N</td>\n",
       "      <td>UNKNOWN</td>\n",
       "      <td>Tiger shark, 3m</td>\n",
       "      <td>A .Kipper</td>\n",
       "      <td>6299.0</td>\n",
       "    </tr>\n",
       "    <tr>\n",
       "      <th>5</th>\n",
       "      <td>2018.06.03.b</td>\n",
       "      <td>03-Jun-2018</td>\n",
       "      <td>2018</td>\n",
       "      <td>Unprovoked</td>\n",
       "      <td>AUSTRALIA</td>\n",
       "      <td>New South Wales</td>\n",
       "      <td>Flat Rock, Ballina</td>\n",
       "      <td>Kite surfing</td>\n",
       "      <td>Chris</td>\n",
       "      <td>M</td>\n",
       "      <td>UNKNOWN</td>\n",
       "      <td>No injury, board bitten</td>\n",
       "      <td>N</td>\n",
       "      <td>UNKNOWN</td>\n",
       "      <td>UNKNOWN</td>\n",
       "      <td>Daily Telegraph, 6/4/2018</td>\n",
       "      <td>6298.0</td>\n",
       "    </tr>\n",
       "    <tr>\n",
       "      <th>6</th>\n",
       "      <td>2018.06.03.a</td>\n",
       "      <td>03-Jun-2018</td>\n",
       "      <td>2018</td>\n",
       "      <td>Unprovoked</td>\n",
       "      <td>BRAZIL</td>\n",
       "      <td>Pernambuco</td>\n",
       "      <td>Piedade Beach, Recife</td>\n",
       "      <td>Swimming</td>\n",
       "      <td>Jose Ernesto da Silva</td>\n",
       "      <td>M</td>\n",
       "      <td>18</td>\n",
       "      <td>FATAL</td>\n",
       "      <td>Y</td>\n",
       "      <td>Late afternoon</td>\n",
       "      <td>Tiger shark</td>\n",
       "      <td>Diario de Pernambuco, 6/4/2018</td>\n",
       "      <td>6297.0</td>\n",
       "    </tr>\n",
       "  </tbody>\n",
       "</table>\n",
       "</div>"
      ],
      "text/plain": [
       "    Case_Number         Date  Year        Type    Country             Area  \\\n",
       "0    2018.06.25  25-Jun-2018  2018     Boating        USA       California   \n",
       "1    2018.06.18  18-Jun-2018  2018  Unprovoked        USA          Georgia   \n",
       "3    2018.06.08  08-Jun-2018  2018  Unprovoked  AUSTRALIA  New South Wales   \n",
       "4    2018.06.04  04-Jun-2018  2018    Provoked     MEXICO           Colima   \n",
       "5  2018.06.03.b  03-Jun-2018  2018  Unprovoked  AUSTRALIA  New South Wales   \n",
       "6  2018.06.03.a  03-Jun-2018  2018  Unprovoked     BRAZIL       Pernambuco   \n",
       "\n",
       "                         Location      Activity                    Name Sex_  \\\n",
       "0     Oceanside, San Diego County      Paddling             Julie Wolfe    F   \n",
       "1  St. Simon Island, Glynn County      Standing         Adyson McNeely     F   \n",
       "3              Arrawarra Headland       Surfing                    male    M   \n",
       "4                        La Ticla   Free diving          Gustavo Ramos     M   \n",
       "5              Flat Rock, Ballina  Kite surfing                 Chris \n",
       "    M   \n",
       "6           Piedade Beach, Recife      Swimming  Jose Ernesto da Silva     M   \n",
       "\n",
       "       Age                                             Injury Fatal_(Y/N)  \\\n",
       "0       57  No injury to occupant, outrigger canoe and pad...           N   \n",
       "1       11                         Minor injury to left thigh           N   \n",
       "3  UNKNOWN                          Minor injury to lower leg           N   \n",
       "4  UNKNOWN  Lacerations to leg & hand shark PROVOKED INCIDENT           N   \n",
       "5  UNKNOWN                            No injury, board bitten           N   \n",
       "6       18                                              FATAL           Y   \n",
       "\n",
       "             Time         Species_          Investigator_or_Source  \\\n",
       "0           18h00      White shark                R. Collier, GSAF   \n",
       "1   14h00  -15h00          UNKNOWN  K.McMurray, TrackingSharks.com   \n",
       "3         UNKNOWN        2 m shark                  B. Myatt, GSAF   \n",
       "4         UNKNOWN  Tiger shark, 3m                       A .Kipper   \n",
       "5         UNKNOWN          UNKNOWN       Daily Telegraph, 6/4/2018   \n",
       "6  Late afternoon      Tiger shark  Diario de Pernambuco, 6/4/2018   \n",
       "\n",
       "   original_order  \n",
       "0          6303.0  \n",
       "1          6302.0  \n",
       "3          6300.0  \n",
       "4          6299.0  \n",
       "5          6298.0  \n",
       "6          6297.0  "
      ]
     },
     "execution_count": 22,
     "metadata": {},
     "output_type": "execute_result"
    }
   ],
   "source": [
    "sh.head(6)"
   ]
  },
  {
   "cell_type": "markdown",
   "id": "e3bc8dba",
   "metadata": {},
   "source": [
    "## subset fecha formato"
   ]
  },
  {
   "cell_type": "code",
   "execution_count": 23,
   "id": "9dc5163a",
   "metadata": {},
   "outputs": [],
   "source": [
    "sh[\"Date_format\"] = sh.Date.apply(dt.date_r)\n",
    "#sh.loc[r\"\\d+\\-\\w{3}\\-\\d+\"].shape"
   ]
  },
  {
   "cell_type": "code",
   "execution_count": 24,
   "id": "e7bdf2d3",
   "metadata": {},
   "outputs": [
    {
     "data": {
      "text/html": [
       "<div>\n",
       "<style scoped>\n",
       "    .dataframe tbody tr th:only-of-type {\n",
       "        vertical-align: middle;\n",
       "    }\n",
       "\n",
       "    .dataframe tbody tr th {\n",
       "        vertical-align: top;\n",
       "    }\n",
       "\n",
       "    .dataframe thead th {\n",
       "        text-align: right;\n",
       "    }\n",
       "</style>\n",
       "<table border=\"1\" class=\"dataframe\">\n",
       "  <thead>\n",
       "    <tr style=\"text-align: right;\">\n",
       "      <th></th>\n",
       "      <th>Case_Number</th>\n",
       "      <th>Date</th>\n",
       "      <th>Year</th>\n",
       "      <th>Type</th>\n",
       "      <th>Country</th>\n",
       "      <th>Area</th>\n",
       "      <th>Location</th>\n",
       "      <th>Activity</th>\n",
       "      <th>Name</th>\n",
       "      <th>Sex_</th>\n",
       "      <th>Age</th>\n",
       "      <th>Injury</th>\n",
       "      <th>Fatal_(Y/N)</th>\n",
       "      <th>Time</th>\n",
       "      <th>Species_</th>\n",
       "      <th>Investigator_or_Source</th>\n",
       "      <th>original_order</th>\n",
       "      <th>Date_format</th>\n",
       "    </tr>\n",
       "  </thead>\n",
       "  <tbody>\n",
       "    <tr>\n",
       "      <th>0</th>\n",
       "      <td>2018.06.25</td>\n",
       "      <td>25-Jun-2018</td>\n",
       "      <td>2018</td>\n",
       "      <td>Boating</td>\n",
       "      <td>USA</td>\n",
       "      <td>California</td>\n",
       "      <td>Oceanside, San Diego County</td>\n",
       "      <td>Paddling</td>\n",
       "      <td>Julie Wolfe</td>\n",
       "      <td>F</td>\n",
       "      <td>57</td>\n",
       "      <td>No injury to occupant, outrigger canoe and pad...</td>\n",
       "      <td>N</td>\n",
       "      <td>18h00</td>\n",
       "      <td>White shark</td>\n",
       "      <td>R. Collier, GSAF</td>\n",
       "      <td>6303.0</td>\n",
       "      <td>25-Jun-2018</td>\n",
       "    </tr>\n",
       "    <tr>\n",
       "      <th>1</th>\n",
       "      <td>2018.06.18</td>\n",
       "      <td>18-Jun-2018</td>\n",
       "      <td>2018</td>\n",
       "      <td>Unprovoked</td>\n",
       "      <td>USA</td>\n",
       "      <td>Georgia</td>\n",
       "      <td>St. Simon Island, Glynn County</td>\n",
       "      <td>Standing</td>\n",
       "      <td>Adyson McNeely</td>\n",
       "      <td>F</td>\n",
       "      <td>11</td>\n",
       "      <td>Minor injury to left thigh</td>\n",
       "      <td>N</td>\n",
       "      <td>14h00  -15h00</td>\n",
       "      <td>UNKNOWN</td>\n",
       "      <td>K.McMurray, TrackingSharks.com</td>\n",
       "      <td>6302.0</td>\n",
       "      <td>18-Jun-2018</td>\n",
       "    </tr>\n",
       "    <tr>\n",
       "      <th>3</th>\n",
       "      <td>2018.06.08</td>\n",
       "      <td>08-Jun-2018</td>\n",
       "      <td>2018</td>\n",
       "      <td>Unprovoked</td>\n",
       "      <td>AUSTRALIA</td>\n",
       "      <td>New South Wales</td>\n",
       "      <td>Arrawarra Headland</td>\n",
       "      <td>Surfing</td>\n",
       "      <td>male</td>\n",
       "      <td>M</td>\n",
       "      <td>UNKNOWN</td>\n",
       "      <td>Minor injury to lower leg</td>\n",
       "      <td>N</td>\n",
       "      <td>UNKNOWN</td>\n",
       "      <td>2 m shark</td>\n",
       "      <td>B. Myatt, GSAF</td>\n",
       "      <td>6300.0</td>\n",
       "      <td>08-Jun-2018</td>\n",
       "    </tr>\n",
       "    <tr>\n",
       "      <th>4</th>\n",
       "      <td>2018.06.04</td>\n",
       "      <td>04-Jun-2018</td>\n",
       "      <td>2018</td>\n",
       "      <td>Provoked</td>\n",
       "      <td>MEXICO</td>\n",
       "      <td>Colima</td>\n",
       "      <td>La Ticla</td>\n",
       "      <td>Free diving</td>\n",
       "      <td>Gustavo Ramos</td>\n",
       "      <td>M</td>\n",
       "      <td>UNKNOWN</td>\n",
       "      <td>Lacerations to leg &amp; hand shark PROVOKED INCIDENT</td>\n",
       "      <td>N</td>\n",
       "      <td>UNKNOWN</td>\n",
       "      <td>Tiger shark, 3m</td>\n",
       "      <td>A .Kipper</td>\n",
       "      <td>6299.0</td>\n",
       "      <td>04-Jun-2018</td>\n",
       "    </tr>\n",
       "    <tr>\n",
       "      <th>5</th>\n",
       "      <td>2018.06.03.b</td>\n",
       "      <td>03-Jun-2018</td>\n",
       "      <td>2018</td>\n",
       "      <td>Unprovoked</td>\n",
       "      <td>AUSTRALIA</td>\n",
       "      <td>New South Wales</td>\n",
       "      <td>Flat Rock, Ballina</td>\n",
       "      <td>Kite surfing</td>\n",
       "      <td>Chris</td>\n",
       "      <td>M</td>\n",
       "      <td>UNKNOWN</td>\n",
       "      <td>No injury, board bitten</td>\n",
       "      <td>N</td>\n",
       "      <td>UNKNOWN</td>\n",
       "      <td>UNKNOWN</td>\n",
       "      <td>Daily Telegraph, 6/4/2018</td>\n",
       "      <td>6298.0</td>\n",
       "      <td>03-Jun-2018</td>\n",
       "    </tr>\n",
       "    <tr>\n",
       "      <th>6</th>\n",
       "      <td>2018.06.03.a</td>\n",
       "      <td>03-Jun-2018</td>\n",
       "      <td>2018</td>\n",
       "      <td>Unprovoked</td>\n",
       "      <td>BRAZIL</td>\n",
       "      <td>Pernambuco</td>\n",
       "      <td>Piedade Beach, Recife</td>\n",
       "      <td>Swimming</td>\n",
       "      <td>Jose Ernesto da Silva</td>\n",
       "      <td>M</td>\n",
       "      <td>18</td>\n",
       "      <td>FATAL</td>\n",
       "      <td>Y</td>\n",
       "      <td>Late afternoon</td>\n",
       "      <td>Tiger shark</td>\n",
       "      <td>Diario de Pernambuco, 6/4/2018</td>\n",
       "      <td>6297.0</td>\n",
       "      <td>03-Jun-2018</td>\n",
       "    </tr>\n",
       "  </tbody>\n",
       "</table>\n",
       "</div>"
      ],
      "text/plain": [
       "    Case_Number         Date  Year        Type    Country             Area  \\\n",
       "0    2018.06.25  25-Jun-2018  2018     Boating        USA       California   \n",
       "1    2018.06.18  18-Jun-2018  2018  Unprovoked        USA          Georgia   \n",
       "3    2018.06.08  08-Jun-2018  2018  Unprovoked  AUSTRALIA  New South Wales   \n",
       "4    2018.06.04  04-Jun-2018  2018    Provoked     MEXICO           Colima   \n",
       "5  2018.06.03.b  03-Jun-2018  2018  Unprovoked  AUSTRALIA  New South Wales   \n",
       "6  2018.06.03.a  03-Jun-2018  2018  Unprovoked     BRAZIL       Pernambuco   \n",
       "\n",
       "                         Location      Activity                    Name Sex_  \\\n",
       "0     Oceanside, San Diego County      Paddling             Julie Wolfe    F   \n",
       "1  St. Simon Island, Glynn County      Standing         Adyson McNeely     F   \n",
       "3              Arrawarra Headland       Surfing                    male    M   \n",
       "4                        La Ticla   Free diving          Gustavo Ramos     M   \n",
       "5              Flat Rock, Ballina  Kite surfing                 Chris \n",
       "    M   \n",
       "6           Piedade Beach, Recife      Swimming  Jose Ernesto da Silva     M   \n",
       "\n",
       "       Age                                             Injury Fatal_(Y/N)  \\\n",
       "0       57  No injury to occupant, outrigger canoe and pad...           N   \n",
       "1       11                         Minor injury to left thigh           N   \n",
       "3  UNKNOWN                          Minor injury to lower leg           N   \n",
       "4  UNKNOWN  Lacerations to leg & hand shark PROVOKED INCIDENT           N   \n",
       "5  UNKNOWN                            No injury, board bitten           N   \n",
       "6       18                                              FATAL           Y   \n",
       "\n",
       "             Time         Species_          Investigator_or_Source  \\\n",
       "0           18h00      White shark                R. Collier, GSAF   \n",
       "1   14h00  -15h00          UNKNOWN  K.McMurray, TrackingSharks.com   \n",
       "3         UNKNOWN        2 m shark                  B. Myatt, GSAF   \n",
       "4         UNKNOWN  Tiger shark, 3m                       A .Kipper   \n",
       "5         UNKNOWN          UNKNOWN       Daily Telegraph, 6/4/2018   \n",
       "6  Late afternoon      Tiger shark  Diario de Pernambuco, 6/4/2018   \n",
       "\n",
       "   original_order  Date_format  \n",
       "0          6303.0  25-Jun-2018  \n",
       "1          6302.0  18-Jun-2018  \n",
       "3          6300.0  08-Jun-2018  \n",
       "4          6299.0  04-Jun-2018  \n",
       "5          6298.0  03-Jun-2018  \n",
       "6          6297.0  03-Jun-2018  "
      ]
     },
     "execution_count": 24,
     "metadata": {},
     "output_type": "execute_result"
    }
   ],
   "source": [
    "sh.head(6)"
   ]
  },
  {
   "cell_type": "markdown",
   "id": "360cb891",
   "metadata": {},
   "source": [
    "## new data frame sh_f"
   ]
  },
  {
   "cell_type": "code",
   "execution_count": 25,
   "id": "c4c2f56b",
   "metadata": {},
   "outputs": [],
   "source": [
    "sh_f = sh[sh[\"Date_format\"] != \"date not complete\"]\n"
   ]
  },
  {
   "cell_type": "code",
   "execution_count": 26,
   "id": "da7ff09c",
   "metadata": {},
   "outputs": [
    {
     "data": {
      "text/plain": [
       "(4902, 18)"
      ]
     },
     "execution_count": 26,
     "metadata": {},
     "output_type": "execute_result"
    }
   ],
   "source": [
    "sh_f.shape"
   ]
  },
  {
   "cell_type": "markdown",
   "id": "5de89e1f",
   "metadata": {},
   "source": [
    "## nueva columna Moon_phase\n",
    "### subset?"
   ]
  },
  {
   "cell_type": "code",
   "execution_count": 27,
   "id": "e8a7f468",
   "metadata": {},
   "outputs": [
    {
     "name": "stderr",
     "output_type": "stream",
     "text": [
      "/tmp/ipykernel_16075/693218441.py:1: SettingWithCopyWarning: \n",
      "A value is trying to be set on a copy of a slice from a DataFrame.\n",
      "Try using .loc[row_indexer,col_indexer] = value instead\n",
      "\n",
      "See the caveats in the documentation: https://pandas.pydata.org/pandas-docs/stable/user_guide/indexing.html#returning-a-view-versus-a-copy\n",
      "  sh_f[\"Moon_phase\"] = sh_f.Date_format.apply(m.moon)\n"
     ]
    }
   ],
   "source": [
    "sh_f[\"Moon_phase\"] = sh_f.Date_format.apply(m.moon)"
   ]
  },
  {
   "cell_type": "code",
   "execution_count": 28,
   "id": "338a5c95",
   "metadata": {},
   "outputs": [
    {
     "data": {
      "text/html": [
       "<div>\n",
       "<style scoped>\n",
       "    .dataframe tbody tr th:only-of-type {\n",
       "        vertical-align: middle;\n",
       "    }\n",
       "\n",
       "    .dataframe tbody tr th {\n",
       "        vertical-align: top;\n",
       "    }\n",
       "\n",
       "    .dataframe thead th {\n",
       "        text-align: right;\n",
       "    }\n",
       "</style>\n",
       "<table border=\"1\" class=\"dataframe\">\n",
       "  <thead>\n",
       "    <tr style=\"text-align: right;\">\n",
       "      <th></th>\n",
       "      <th>Case_Number</th>\n",
       "      <th>Date</th>\n",
       "      <th>Year</th>\n",
       "      <th>Type</th>\n",
       "      <th>Country</th>\n",
       "      <th>Area</th>\n",
       "      <th>Location</th>\n",
       "      <th>Activity</th>\n",
       "      <th>Name</th>\n",
       "      <th>Sex_</th>\n",
       "      <th>Age</th>\n",
       "      <th>Injury</th>\n",
       "      <th>Fatal_(Y/N)</th>\n",
       "      <th>Time</th>\n",
       "      <th>Species_</th>\n",
       "      <th>Investigator_or_Source</th>\n",
       "      <th>original_order</th>\n",
       "      <th>Date_format</th>\n",
       "      <th>Moon_phase</th>\n",
       "    </tr>\n",
       "  </thead>\n",
       "  <tbody>\n",
       "    <tr>\n",
       "      <th>0</th>\n",
       "      <td>2018.06.25</td>\n",
       "      <td>25-Jun-2018</td>\n",
       "      <td>2018</td>\n",
       "      <td>Boating</td>\n",
       "      <td>USA</td>\n",
       "      <td>California</td>\n",
       "      <td>Oceanside, San Diego County</td>\n",
       "      <td>Paddling</td>\n",
       "      <td>Julie Wolfe</td>\n",
       "      <td>F</td>\n",
       "      <td>57</td>\n",
       "      <td>No injury to occupant, outrigger canoe and pad...</td>\n",
       "      <td>N</td>\n",
       "      <td>18h00</td>\n",
       "      <td>White shark</td>\n",
       "      <td>R. Collier, GSAF</td>\n",
       "      <td>6303.0</td>\n",
       "      <td>25-Jun-2018</td>\n",
       "      <td>full</td>\n",
       "    </tr>\n",
       "    <tr>\n",
       "      <th>1</th>\n",
       "      <td>2018.06.18</td>\n",
       "      <td>18-Jun-2018</td>\n",
       "      <td>2018</td>\n",
       "      <td>Unprovoked</td>\n",
       "      <td>USA</td>\n",
       "      <td>Georgia</td>\n",
       "      <td>St. Simon Island, Glynn County</td>\n",
       "      <td>Standing</td>\n",
       "      <td>Adyson McNeely</td>\n",
       "      <td>F</td>\n",
       "      <td>11</td>\n",
       "      <td>Minor injury to left thigh</td>\n",
       "      <td>N</td>\n",
       "      <td>14h00  -15h00</td>\n",
       "      <td>UNKNOWN</td>\n",
       "      <td>K.McMurray, TrackingSharks.com</td>\n",
       "      <td>6302.0</td>\n",
       "      <td>18-Jun-2018</td>\n",
       "      <td>waxing</td>\n",
       "    </tr>\n",
       "    <tr>\n",
       "      <th>3</th>\n",
       "      <td>2018.06.08</td>\n",
       "      <td>08-Jun-2018</td>\n",
       "      <td>2018</td>\n",
       "      <td>Unprovoked</td>\n",
       "      <td>AUSTRALIA</td>\n",
       "      <td>New South Wales</td>\n",
       "      <td>Arrawarra Headland</td>\n",
       "      <td>Surfing</td>\n",
       "      <td>male</td>\n",
       "      <td>M</td>\n",
       "      <td>UNKNOWN</td>\n",
       "      <td>Minor injury to lower leg</td>\n",
       "      <td>N</td>\n",
       "      <td>UNKNOWN</td>\n",
       "      <td>2 m shark</td>\n",
       "      <td>B. Myatt, GSAF</td>\n",
       "      <td>6300.0</td>\n",
       "      <td>08-Jun-2018</td>\n",
       "      <td>waning</td>\n",
       "    </tr>\n",
       "    <tr>\n",
       "      <th>4</th>\n",
       "      <td>2018.06.04</td>\n",
       "      <td>04-Jun-2018</td>\n",
       "      <td>2018</td>\n",
       "      <td>Provoked</td>\n",
       "      <td>MEXICO</td>\n",
       "      <td>Colima</td>\n",
       "      <td>La Ticla</td>\n",
       "      <td>Free diving</td>\n",
       "      <td>Gustavo Ramos</td>\n",
       "      <td>M</td>\n",
       "      <td>UNKNOWN</td>\n",
       "      <td>Lacerations to leg &amp; hand shark PROVOKED INCIDENT</td>\n",
       "      <td>N</td>\n",
       "      <td>UNKNOWN</td>\n",
       "      <td>Tiger shark, 3m</td>\n",
       "      <td>A .Kipper</td>\n",
       "      <td>6299.0</td>\n",
       "      <td>04-Jun-2018</td>\n",
       "      <td>waning</td>\n",
       "    </tr>\n",
       "    <tr>\n",
       "      <th>5</th>\n",
       "      <td>2018.06.03.b</td>\n",
       "      <td>03-Jun-2018</td>\n",
       "      <td>2018</td>\n",
       "      <td>Unprovoked</td>\n",
       "      <td>AUSTRALIA</td>\n",
       "      <td>New South Wales</td>\n",
       "      <td>Flat Rock, Ballina</td>\n",
       "      <td>Kite surfing</td>\n",
       "      <td>Chris</td>\n",
       "      <td>M</td>\n",
       "      <td>UNKNOWN</td>\n",
       "      <td>No injury, board bitten</td>\n",
       "      <td>N</td>\n",
       "      <td>UNKNOWN</td>\n",
       "      <td>UNKNOWN</td>\n",
       "      <td>Daily Telegraph, 6/4/2018</td>\n",
       "      <td>6298.0</td>\n",
       "      <td>03-Jun-2018</td>\n",
       "      <td>waning</td>\n",
       "    </tr>\n",
       "    <tr>\n",
       "      <th>6</th>\n",
       "      <td>2018.06.03.a</td>\n",
       "      <td>03-Jun-2018</td>\n",
       "      <td>2018</td>\n",
       "      <td>Unprovoked</td>\n",
       "      <td>BRAZIL</td>\n",
       "      <td>Pernambuco</td>\n",
       "      <td>Piedade Beach, Recife</td>\n",
       "      <td>Swimming</td>\n",
       "      <td>Jose Ernesto da Silva</td>\n",
       "      <td>M</td>\n",
       "      <td>18</td>\n",
       "      <td>FATAL</td>\n",
       "      <td>Y</td>\n",
       "      <td>Late afternoon</td>\n",
       "      <td>Tiger shark</td>\n",
       "      <td>Diario de Pernambuco, 6/4/2018</td>\n",
       "      <td>6297.0</td>\n",
       "      <td>03-Jun-2018</td>\n",
       "      <td>waning</td>\n",
       "    </tr>\n",
       "    <tr>\n",
       "      <th>7</th>\n",
       "      <td>2018.05.27</td>\n",
       "      <td>27-May-2018</td>\n",
       "      <td>2018</td>\n",
       "      <td>Unprovoked</td>\n",
       "      <td>USA</td>\n",
       "      <td>Florida</td>\n",
       "      <td>Lighhouse Point Park, Ponce Inlet, Volusia County</td>\n",
       "      <td>Fishing</td>\n",
       "      <td>male</td>\n",
       "      <td>M</td>\n",
       "      <td>52</td>\n",
       "      <td>Minor injury to foot. PROVOKED INCIDENT</td>\n",
       "      <td>N</td>\n",
       "      <td>UNKNOWN</td>\n",
       "      <td>Lemon shark, 3'</td>\n",
       "      <td>K. McMurray, TrackingSharks.com</td>\n",
       "      <td>6296.0</td>\n",
       "      <td>27-May-2018</td>\n",
       "      <td>full</td>\n",
       "    </tr>\n",
       "  </tbody>\n",
       "</table>\n",
       "</div>"
      ],
      "text/plain": [
       "    Case_Number         Date  Year        Type    Country             Area  \\\n",
       "0    2018.06.25  25-Jun-2018  2018     Boating        USA       California   \n",
       "1    2018.06.18  18-Jun-2018  2018  Unprovoked        USA          Georgia   \n",
       "3    2018.06.08  08-Jun-2018  2018  Unprovoked  AUSTRALIA  New South Wales   \n",
       "4    2018.06.04  04-Jun-2018  2018    Provoked     MEXICO           Colima   \n",
       "5  2018.06.03.b  03-Jun-2018  2018  Unprovoked  AUSTRALIA  New South Wales   \n",
       "6  2018.06.03.a  03-Jun-2018  2018  Unprovoked     BRAZIL       Pernambuco   \n",
       "7    2018.05.27  27-May-2018  2018  Unprovoked        USA          Florida   \n",
       "\n",
       "                                            Location      Activity  \\\n",
       "0                        Oceanside, San Diego County      Paddling   \n",
       "1                     St. Simon Island, Glynn County      Standing   \n",
       "3                                 Arrawarra Headland       Surfing   \n",
       "4                                           La Ticla   Free diving   \n",
       "5                                 Flat Rock, Ballina  Kite surfing   \n",
       "6                              Piedade Beach, Recife      Swimming   \n",
       "7  Lighhouse Point Park, Ponce Inlet, Volusia County       Fishing   \n",
       "\n",
       "                     Name Sex_      Age  \\\n",
       "0             Julie Wolfe    F       57   \n",
       "1         Adyson McNeely     F       11   \n",
       "3                    male    M  UNKNOWN   \n",
       "4          Gustavo Ramos     M  UNKNOWN   \n",
       "5                 Chris \n",
       "    M  UNKNOWN   \n",
       "6  Jose Ernesto da Silva     M       18   \n",
       "7                    male    M       52   \n",
       "\n",
       "                                              Injury Fatal_(Y/N)  \\\n",
       "0  No injury to occupant, outrigger canoe and pad...           N   \n",
       "1                         Minor injury to left thigh           N   \n",
       "3                          Minor injury to lower leg           N   \n",
       "4  Lacerations to leg & hand shark PROVOKED INCIDENT           N   \n",
       "5                            No injury, board bitten           N   \n",
       "6                                              FATAL           Y   \n",
       "7            Minor injury to foot. PROVOKED INCIDENT           N   \n",
       "\n",
       "             Time         Species_           Investigator_or_Source  \\\n",
       "0           18h00      White shark                 R. Collier, GSAF   \n",
       "1   14h00  -15h00          UNKNOWN   K.McMurray, TrackingSharks.com   \n",
       "3         UNKNOWN        2 m shark                   B. Myatt, GSAF   \n",
       "4         UNKNOWN  Tiger shark, 3m                        A .Kipper   \n",
       "5         UNKNOWN          UNKNOWN        Daily Telegraph, 6/4/2018   \n",
       "6  Late afternoon      Tiger shark   Diario de Pernambuco, 6/4/2018   \n",
       "7         UNKNOWN  Lemon shark, 3'  K. McMurray, TrackingSharks.com   \n",
       "\n",
       "   original_order  Date_format Moon_phase  \n",
       "0          6303.0  25-Jun-2018       full  \n",
       "1          6302.0  18-Jun-2018     waxing  \n",
       "3          6300.0  08-Jun-2018     waning  \n",
       "4          6299.0  04-Jun-2018     waning  \n",
       "5          6298.0  03-Jun-2018     waning  \n",
       "6          6297.0  03-Jun-2018     waning  \n",
       "7          6296.0  27-May-2018       full  "
      ]
     },
     "execution_count": 28,
     "metadata": {},
     "output_type": "execute_result"
    }
   ],
   "source": [
    "sh_f.head(7)"
   ]
  },
  {
   "cell_type": "code",
   "execution_count": 29,
   "id": "9279e3ff",
   "metadata": {},
   "outputs": [
    {
     "data": {
      "text/plain": [
       "full      1315\n",
       "waxing    1159\n",
       "waning    1136\n",
       "new       1131\n",
       "Name: Moon_phase, dtype: int64"
      ]
     },
     "execution_count": 29,
     "metadata": {},
     "output_type": "execute_result"
    }
   ],
   "source": [
    "sh_f.Moon_phase.value_counts()"
   ]
  },
  {
   "cell_type": "markdown",
   "id": "684c686e",
   "metadata": {},
   "source": [
    "## new column Day/Night\n",
    "### fix time"
   ]
  },
  {
   "cell_type": "code",
   "execution_count": 30,
   "id": "1adfe859",
   "metadata": {},
   "outputs": [],
   "source": [
    "#sh_f.Time= dt.time_fix(sh_f, 'Time', 'Age','Fatal_(Y/N)')"
   ]
  },
  {
   "cell_type": "code",
   "execution_count": 31,
   "id": "62644f8e",
   "metadata": {},
   "outputs": [],
   "source": [
    "#sh_f[\"Time\"]= sh_f.apply(lambda x: dt.fix_time(x[\"Time\"],x[\"Age\"],x[\"Fatal_(Y/N)\"]))"
   ]
  },
  {
   "cell_type": "code",
   "execution_count": 32,
   "id": "ff903870",
   "metadata": {},
   "outputs": [
    {
     "name": "stderr",
     "output_type": "stream",
     "text": [
      "/tmp/ipykernel_16075/1918111396.py:1: SettingWithCopyWarning: \n",
      "A value is trying to be set on a copy of a slice from a DataFrame.\n",
      "Try using .loc[row_indexer,col_indexer] = value instead\n",
      "\n",
      "See the caveats in the documentation: https://pandas.pydata.org/pandas-docs/stable/user_guide/indexing.html#returning-a-view-versus-a-copy\n",
      "  sh_f[\"Day/\"] = sh_f.Time + \"@\" + sh_f.Age + \"@\" + sh_f[\"Fatal_(Y/N)\"]\n"
     ]
    }
   ],
   "source": [
    "sh_f[\"Day/\"] = sh_f.Time + \"@\" + sh_f.Age + \"@\" + sh_f[\"Fatal_(Y/N)\"]"
   ]
  },
  {
   "cell_type": "code",
   "execution_count": 33,
   "id": "49d2684e",
   "metadata": {},
   "outputs": [
    {
     "name": "stderr",
     "output_type": "stream",
     "text": [
      "/tmp/ipykernel_16075/837722861.py:1: SettingWithCopyWarning: \n",
      "A value is trying to be set on a copy of a slice from a DataFrame.\n",
      "Try using .loc[row_indexer,col_indexer] = value instead\n",
      "\n",
      "See the caveats in the documentation: https://pandas.pydata.org/pandas-docs/stable/user_guide/indexing.html#returning-a-view-versus-a-copy\n",
      "  sh_f[\"Time\"] = sh_f[\"Day/\"].apply(dt.fix_time)\n"
     ]
    }
   ],
   "source": [
    "sh_f[\"Time\"] = sh_f[\"Day/\"].apply(dt.fix_time)"
   ]
  },
  {
   "cell_type": "code",
   "execution_count": 34,
   "id": "ed8eda2a",
   "metadata": {},
   "outputs": [
    {
     "name": "stderr",
     "output_type": "stream",
     "text": [
      "/tmp/ipykernel_16075/2376343300.py:1: SettingWithCopyWarning: \n",
      "A value is trying to be set on a copy of a slice from a DataFrame.\n",
      "Try using .loc[row_indexer,col_indexer] = value instead\n",
      "\n",
      "See the caveats in the documentation: https://pandas.pydata.org/pandas-docs/stable/user_guide/indexing.html#returning-a-view-versus-a-copy\n",
      "  sh_f[\"Day/Night\"]=sh_f.Time.apply(dt.daytime)\n"
     ]
    }
   ],
   "source": [
    "sh_f[\"Day/Night\"]=sh_f.Time.apply(dt.daytime)\n"
   ]
  },
  {
   "cell_type": "code",
   "execution_count": 39,
   "id": "fed6c6ba",
   "metadata": {},
   "outputs": [
    {
     "name": "stderr",
     "output_type": "stream",
     "text": [
      "/home/alejandro/.local/lib/python3.8/site-packages/pandas/core/frame.py:4901: SettingWithCopyWarning: \n",
      "A value is trying to be set on a copy of a slice from a DataFrame\n",
      "\n",
      "See the caveats in the documentation: https://pandas.pydata.org/pandas-docs/stable/user_guide/indexing.html#returning-a-view-versus-a-copy\n",
      "  return super().drop(\n"
     ]
    }
   ],
   "source": [
    "sh_f.drop([\"Day/\"], axis=1, inplace=True)"
   ]
  },
  {
   "cell_type": "code",
   "execution_count": 40,
   "id": "387d41cc",
   "metadata": {},
   "outputs": [
    {
     "data": {
      "text/html": [
       "<div>\n",
       "<style scoped>\n",
       "    .dataframe tbody tr th:only-of-type {\n",
       "        vertical-align: middle;\n",
       "    }\n",
       "\n",
       "    .dataframe tbody tr th {\n",
       "        vertical-align: top;\n",
       "    }\n",
       "\n",
       "    .dataframe thead th {\n",
       "        text-align: right;\n",
       "    }\n",
       "</style>\n",
       "<table border=\"1\" class=\"dataframe\">\n",
       "  <thead>\n",
       "    <tr style=\"text-align: right;\">\n",
       "      <th></th>\n",
       "      <th>Case_Number</th>\n",
       "      <th>Date</th>\n",
       "      <th>Year</th>\n",
       "      <th>Type</th>\n",
       "      <th>Country</th>\n",
       "      <th>Area</th>\n",
       "      <th>Location</th>\n",
       "      <th>Activity</th>\n",
       "      <th>Name</th>\n",
       "      <th>Sex_</th>\n",
       "      <th>Age</th>\n",
       "      <th>Injury</th>\n",
       "      <th>Fatal_(Y/N)</th>\n",
       "      <th>Time</th>\n",
       "      <th>Species_</th>\n",
       "      <th>Investigator_or_Source</th>\n",
       "      <th>original_order</th>\n",
       "      <th>Date_format</th>\n",
       "      <th>Moon_phase</th>\n",
       "      <th>Day/Night</th>\n",
       "    </tr>\n",
       "  </thead>\n",
       "  <tbody>\n",
       "    <tr>\n",
       "      <th>5268</th>\n",
       "      <td>1919.05.29</td>\n",
       "      <td>29-May-1919</td>\n",
       "      <td>1919</td>\n",
       "      <td>Unprovoked</td>\n",
       "      <td>USA</td>\n",
       "      <td>South Carolina</td>\n",
       "      <td>James Island Sound, Charleston</td>\n",
       "      <td>\"Swimming vigorously\"</td>\n",
       "      <td>W.E. Davis</td>\n",
       "      <td>M</td>\n",
       "      <td>UNKNOWN</td>\n",
       "      <td>Left foot bitten &amp; abraded</td>\n",
       "      <td>N</td>\n",
       "      <td>12h00</td>\n",
       "      <td>UNKNOWN</td>\n",
       "      <td>E. M. Burton</td>\n",
       "      <td>1035.0</td>\n",
       "      <td>29-May-1919</td>\n",
       "      <td>new</td>\n",
       "      <td>Day</td>\n",
       "    </tr>\n",
       "    <tr>\n",
       "      <th>5718</th>\n",
       "      <td>1889.07.08</td>\n",
       "      <td>08-Jul-1889</td>\n",
       "      <td>1889</td>\n",
       "      <td>Unprovoked</td>\n",
       "      <td>AUSTRALIA</td>\n",
       "      <td>Victoria</td>\n",
       "      <td>Port Phillip</td>\n",
       "      <td>Fell into the water</td>\n",
       "      <td>male</td>\n",
       "      <td>M</td>\n",
       "      <td>UNKNOWN</td>\n",
       "      <td>FATAL</td>\n",
       "      <td>Y</td>\n",
       "      <td>evening</td>\n",
       "      <td>UNKNOWN</td>\n",
       "      <td>Brisbane Courier, 7/9/1889</td>\n",
       "      <td>585.0</td>\n",
       "      <td>08-Jul-1889</td>\n",
       "      <td>waxing</td>\n",
       "      <td>Night</td>\n",
       "    </tr>\n",
       "    <tr>\n",
       "      <th>4117</th>\n",
       "      <td>1959.01.12</td>\n",
       "      <td>12-Jan-1959</td>\n",
       "      <td>1959</td>\n",
       "      <td>Unprovoked</td>\n",
       "      <td>NEW GUINEA</td>\n",
       "      <td>Milne Bay Province</td>\n",
       "      <td>Uga, Banaira, Milne Bay</td>\n",
       "      <td>Dragging banana seeds through the shallows</td>\n",
       "      <td>male</td>\n",
       "      <td>M</td>\n",
       "      <td>UNKNOWN</td>\n",
       "      <td>Left calf &amp; right thigh bitten</td>\n",
       "      <td>N</td>\n",
       "      <td>UNKNOWN</td>\n",
       "      <td>1.4 m [4.5'] shark</td>\n",
       "      <td>A.M. Rapson, p.149; L. Schultz &amp; M. Malin, p.544</td>\n",
       "      <td>2186.0</td>\n",
       "      <td>12-Jan-1959</td>\n",
       "      <td>new</td>\n",
       "      <td>UNKNOWN</td>\n",
       "    </tr>\n",
       "    <tr>\n",
       "      <th>5464</th>\n",
       "      <td>1906.11.16</td>\n",
       "      <td>16-Nov-1906</td>\n",
       "      <td>1906</td>\n",
       "      <td>Unprovoked</td>\n",
       "      <td>JAMAICA</td>\n",
       "      <td>Westmoreland Parish</td>\n",
       "      <td>Cabaritta River mouth</td>\n",
       "      <td>Fishing</td>\n",
       "      <td>Zacey Allen</td>\n",
       "      <td>M</td>\n",
       "      <td>UNKNOWN</td>\n",
       "      <td>Leg bitten</td>\n",
       "      <td>N</td>\n",
       "      <td>UNKNOWN</td>\n",
       "      <td>UNKNOWN</td>\n",
       "      <td>The Gleaner (Jamaica), 11/20/1906</td>\n",
       "      <td>839.0</td>\n",
       "      <td>16-Nov-1906</td>\n",
       "      <td>new</td>\n",
       "      <td>UNKNOWN</td>\n",
       "    </tr>\n",
       "    <tr>\n",
       "      <th>3108</th>\n",
       "      <td>1978.12.29</td>\n",
       "      <td>29-Dec-1978</td>\n",
       "      <td>1978</td>\n",
       "      <td>Unprovoked</td>\n",
       "      <td>AUSTRALIA</td>\n",
       "      <td>Queensland</td>\n",
       "      <td>Bribie Island</td>\n",
       "      <td>UNKNOWN</td>\n",
       "      <td>Wayne Brown</td>\n",
       "      <td>M</td>\n",
       "      <td></td>\n",
       "      <td>Survived</td>\n",
       "      <td>N</td>\n",
       "      <td>UNKNOWN</td>\n",
       "      <td>UNKNOWN</td>\n",
       "      <td>R. McKenzie, Sunday Mail, 9/6/1987, p.11</td>\n",
       "      <td>3195.0</td>\n",
       "      <td>29-Dec-1978</td>\n",
       "      <td>new</td>\n",
       "      <td>UNKNOWN</td>\n",
       "    </tr>\n",
       "    <tr>\n",
       "      <th>216</th>\n",
       "      <td>2016.09.17.a</td>\n",
       "      <td>17-Sep-2016</td>\n",
       "      <td>2016</td>\n",
       "      <td>Unprovoked</td>\n",
       "      <td>AUSTRALIA</td>\n",
       "      <td>Victoria</td>\n",
       "      <td>Thirteenth Beach</td>\n",
       "      <td>Surfing</td>\n",
       "      <td>Rory Angiolella</td>\n",
       "      <td>M</td>\n",
       "      <td>UNKNOWN</td>\n",
       "      <td>Struck by fin on chest &amp; leg</td>\n",
       "      <td>N</td>\n",
       "      <td>UNKNOWN</td>\n",
       "      <td>UNKNOWN</td>\n",
       "      <td>The Age, 9/18/2016</td>\n",
       "      <td>6087.0</td>\n",
       "      <td>17-Sep-2016</td>\n",
       "      <td>full</td>\n",
       "      <td>UNKNOWN</td>\n",
       "    </tr>\n",
       "  </tbody>\n",
       "</table>\n",
       "</div>"
      ],
      "text/plain": [
       "       Case_Number         Date  Year        Type     Country  \\\n",
       "5268    1919.05.29  29-May-1919  1919  Unprovoked         USA   \n",
       "5718    1889.07.08  08-Jul-1889  1889  Unprovoked   AUSTRALIA   \n",
       "4117    1959.01.12  12-Jan-1959  1959  Unprovoked  NEW GUINEA   \n",
       "5464    1906.11.16  16-Nov-1906  1906  Unprovoked     JAMAICA   \n",
       "3108    1978.12.29  29-Dec-1978  1978  Unprovoked   AUSTRALIA   \n",
       "216   2016.09.17.a  17-Sep-2016  2016  Unprovoked   AUSTRALIA   \n",
       "\n",
       "                     Area                        Location  \\\n",
       "5268       South Carolina  James Island Sound, Charleston   \n",
       "5718             Victoria                    Port Phillip   \n",
       "4117   Milne Bay Province         Uga, Banaira, Milne Bay   \n",
       "5464  Westmoreland Parish           Cabaritta River mouth   \n",
       "3108           Queensland                   Bribie Island   \n",
       "216              Victoria                Thirteenth Beach   \n",
       "\n",
       "                                        Activity             Name Sex_  \\\n",
       "5268                       \"Swimming vigorously\"       W.E. Davis    M   \n",
       "5718                         Fell into the water             male    M   \n",
       "4117  Dragging banana seeds through the shallows             male    M   \n",
       "5464                                     Fishing      Zacey Allen    M   \n",
       "3108                                     UNKNOWN      Wayne Brown    M   \n",
       "216                                      Surfing  Rory Angiolella    M   \n",
       "\n",
       "          Age                          Injury Fatal_(Y/N)     Time  \\\n",
       "5268  UNKNOWN      Left foot bitten & abraded           N    12h00   \n",
       "5718  UNKNOWN                          FATAL            Y  evening   \n",
       "4117  UNKNOWN  Left calf & right thigh bitten           N  UNKNOWN   \n",
       "5464  UNKNOWN                      Leg bitten           N  UNKNOWN   \n",
       "3108                                 Survived           N  UNKNOWN   \n",
       "216   UNKNOWN    Struck by fin on chest & leg           N  UNKNOWN   \n",
       "\n",
       "                Species_                            Investigator_or_Source  \\\n",
       "5268             UNKNOWN                                      E. M. Burton   \n",
       "5718             UNKNOWN                        Brisbane Courier, 7/9/1889   \n",
       "4117  1.4 m [4.5'] shark  A.M. Rapson, p.149; L. Schultz & M. Malin, p.544   \n",
       "5464             UNKNOWN                 The Gleaner (Jamaica), 11/20/1906   \n",
       "3108             UNKNOWN          R. McKenzie, Sunday Mail, 9/6/1987, p.11   \n",
       "216              UNKNOWN                                The Age, 9/18/2016   \n",
       "\n",
       "      original_order  Date_format Moon_phase Day/Night  \n",
       "5268          1035.0  29-May-1919        new       Day  \n",
       "5718           585.0  08-Jul-1889     waxing     Night  \n",
       "4117          2186.0  12-Jan-1959        new   UNKNOWN  \n",
       "5464           839.0  16-Nov-1906        new   UNKNOWN  \n",
       "3108          3195.0  29-Dec-1978        new   UNKNOWN  \n",
       "216           6087.0  17-Sep-2016       full   UNKNOWN  "
      ]
     },
     "execution_count": 40,
     "metadata": {},
     "output_type": "execute_result"
    }
   ],
   "source": [
    "sh_f.sample(6)"
   ]
  },
  {
   "cell_type": "markdown",
   "id": "3d9b319b",
   "metadata": {},
   "source": [
    "## export df"
   ]
  },
  {
   "cell_type": "code",
   "execution_count": 41,
   "id": "7d866bad",
   "metadata": {},
   "outputs": [],
   "source": [
    "sh.to_csv ('sh.csv')\n",
    "sh_f.to_csv ('sh_f.csv')"
   ]
  }
 ],
 "metadata": {
  "kernelspec": {
   "display_name": "Python 3 (ipykernel)",
   "language": "python",
   "name": "python3"
  },
  "language_info": {
   "codemirror_mode": {
    "name": "ipython",
    "version": 3
   },
   "file_extension": ".py",
   "mimetype": "text/x-python",
   "name": "python",
   "nbconvert_exporter": "python",
   "pygments_lexer": "ipython3",
   "version": "3.8.10"
  }
 },
 "nbformat": 4,
 "nbformat_minor": 5
}

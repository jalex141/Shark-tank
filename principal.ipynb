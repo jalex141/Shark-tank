{
 "cells": [
  {
   "cell_type": "markdown",
   "id": "08c9733e",
   "metadata": {},
   "source": [
    "\n",
    "# Shark Tank"
   ]
  },
  {
   "cell_type": "markdown",
   "id": "011c5d8c",
   "metadata": {},
   "source": [
    "## imports"
   ]
  },
  {
   "cell_type": "code",
   "execution_count": 71,
   "id": "ada28e87",
   "metadata": {},
   "outputs": [],
   "source": [
    "import pandas as pd\n",
    "import seaborn as sns\n",
    "import re"
   ]
  },
  {
   "cell_type": "markdown",
   "id": "02a63758",
   "metadata": {},
   "source": [
    "## load data"
   ]
  },
  {
   "cell_type": "code",
   "execution_count": 36,
   "id": "d9285318",
   "metadata": {},
   "outputs": [],
   "source": [
    "sh = pd.read_csv('./attacks.csv',encoding=\"ISO-8859-1\")\n",
    "#sh.head()"
   ]
  },
  {
   "cell_type": "markdown",
   "id": "f8956fad",
   "metadata": {},
   "source": [
    "## Limpiar columnas"
   ]
  },
  {
   "cell_type": "code",
   "execution_count": 37,
   "id": "f9c70970",
   "metadata": {},
   "outputs": [],
   "source": [
    "#fix col names\n",
    "diccio_todas = {col: col.replace(\" \",\"_\")  for col in list(sh.columns)}\n",
    "sh.rename(columns=diccio_todas, inplace=True)\n"
   ]
  },
  {
   "cell_type": "code",
   "execution_count": 38,
   "id": "5030c1cd",
   "metadata": {},
   "outputs": [],
   "source": [
    "#drop unnecessary cols\n",
    "sh.drop([\"Unnamed:_22\",\"Unnamed:_23\", \"Case_Number.1\",\"Case_Number.2\",\"href_formula\",\"href\",\"pdf\"], axis=1, inplace=True)"
   ]
  },
  {
   "cell_type": "code",
   "execution_count": 40,
   "id": "e99470f7",
   "metadata": {},
   "outputs": [
    {
     "data": {
      "text/plain": [
       "(25723, 17)"
      ]
     },
     "execution_count": 40,
     "metadata": {},
     "output_type": "execute_result"
    }
   ],
   "source": [
    "sh.shape"
   ]
  },
  {
   "cell_type": "code",
   "execution_count": 39,
   "id": "c6684247",
   "metadata": {},
   "outputs": [
    {
     "data": {
      "text/html": [
       "<div>\n",
       "<style scoped>\n",
       "    .dataframe tbody tr th:only-of-type {\n",
       "        vertical-align: middle;\n",
       "    }\n",
       "\n",
       "    .dataframe tbody tr th {\n",
       "        vertical-align: top;\n",
       "    }\n",
       "\n",
       "    .dataframe thead th {\n",
       "        text-align: right;\n",
       "    }\n",
       "</style>\n",
       "<table border=\"1\" class=\"dataframe\">\n",
       "  <thead>\n",
       "    <tr style=\"text-align: right;\">\n",
       "      <th></th>\n",
       "      <th>Case_Number</th>\n",
       "      <th>Date</th>\n",
       "      <th>Year</th>\n",
       "      <th>Type</th>\n",
       "      <th>Country</th>\n",
       "      <th>Area</th>\n",
       "      <th>Location</th>\n",
       "      <th>Activity</th>\n",
       "      <th>Name</th>\n",
       "      <th>Sex_</th>\n",
       "      <th>Age</th>\n",
       "      <th>Injury</th>\n",
       "      <th>Fatal_(Y/N)</th>\n",
       "      <th>Time</th>\n",
       "      <th>Species_</th>\n",
       "      <th>Investigator_or_Source</th>\n",
       "      <th>original_order</th>\n",
       "    </tr>\n",
       "  </thead>\n",
       "  <tbody>\n",
       "    <tr>\n",
       "      <th>0</th>\n",
       "      <td>2018.06.25</td>\n",
       "      <td>25-Jun-2018</td>\n",
       "      <td>2018.0</td>\n",
       "      <td>Boating</td>\n",
       "      <td>USA</td>\n",
       "      <td>California</td>\n",
       "      <td>Oceanside, San Diego County</td>\n",
       "      <td>Paddling</td>\n",
       "      <td>Julie Wolfe</td>\n",
       "      <td>F</td>\n",
       "      <td>57</td>\n",
       "      <td>No injury to occupant, outrigger canoe and pad...</td>\n",
       "      <td>N</td>\n",
       "      <td>18h00</td>\n",
       "      <td>White shark</td>\n",
       "      <td>R. Collier, GSAF</td>\n",
       "      <td>6303.0</td>\n",
       "    </tr>\n",
       "    <tr>\n",
       "      <th>1</th>\n",
       "      <td>2018.06.18</td>\n",
       "      <td>18-Jun-2018</td>\n",
       "      <td>2018.0</td>\n",
       "      <td>Unprovoked</td>\n",
       "      <td>USA</td>\n",
       "      <td>Georgia</td>\n",
       "      <td>St. Simon Island, Glynn County</td>\n",
       "      <td>Standing</td>\n",
       "      <td>Adyson McNeely</td>\n",
       "      <td>F</td>\n",
       "      <td>11</td>\n",
       "      <td>Minor injury to left thigh</td>\n",
       "      <td>N</td>\n",
       "      <td>14h00  -15h00</td>\n",
       "      <td>NaN</td>\n",
       "      <td>K.McMurray, TrackingSharks.com</td>\n",
       "      <td>6302.0</td>\n",
       "    </tr>\n",
       "    <tr>\n",
       "      <th>2</th>\n",
       "      <td>2018.06.09</td>\n",
       "      <td>09-Jun-2018</td>\n",
       "      <td>2018.0</td>\n",
       "      <td>Invalid</td>\n",
       "      <td>USA</td>\n",
       "      <td>Hawaii</td>\n",
       "      <td>Habush, Oahu</td>\n",
       "      <td>Surfing</td>\n",
       "      <td>John Denges</td>\n",
       "      <td>M</td>\n",
       "      <td>48</td>\n",
       "      <td>Injury to left lower leg from surfboard skeg</td>\n",
       "      <td>N</td>\n",
       "      <td>07h45</td>\n",
       "      <td>NaN</td>\n",
       "      <td>K.McMurray, TrackingSharks.com</td>\n",
       "      <td>6301.0</td>\n",
       "    </tr>\n",
       "    <tr>\n",
       "      <th>3</th>\n",
       "      <td>2018.06.08</td>\n",
       "      <td>08-Jun-2018</td>\n",
       "      <td>2018.0</td>\n",
       "      <td>Unprovoked</td>\n",
       "      <td>AUSTRALIA</td>\n",
       "      <td>New South Wales</td>\n",
       "      <td>Arrawarra Headland</td>\n",
       "      <td>Surfing</td>\n",
       "      <td>male</td>\n",
       "      <td>M</td>\n",
       "      <td>NaN</td>\n",
       "      <td>Minor injury to lower leg</td>\n",
       "      <td>N</td>\n",
       "      <td>NaN</td>\n",
       "      <td>2 m shark</td>\n",
       "      <td>B. Myatt, GSAF</td>\n",
       "      <td>6300.0</td>\n",
       "    </tr>\n",
       "    <tr>\n",
       "      <th>4</th>\n",
       "      <td>2018.06.04</td>\n",
       "      <td>04-Jun-2018</td>\n",
       "      <td>2018.0</td>\n",
       "      <td>Provoked</td>\n",
       "      <td>MEXICO</td>\n",
       "      <td>Colima</td>\n",
       "      <td>La Ticla</td>\n",
       "      <td>Free diving</td>\n",
       "      <td>Gustavo Ramos</td>\n",
       "      <td>M</td>\n",
       "      <td>NaN</td>\n",
       "      <td>Lacerations to leg &amp; hand shark PROVOKED INCIDENT</td>\n",
       "      <td>N</td>\n",
       "      <td>NaN</td>\n",
       "      <td>Tiger shark, 3m</td>\n",
       "      <td>A .Kipper</td>\n",
       "      <td>6299.0</td>\n",
       "    </tr>\n",
       "  </tbody>\n",
       "</table>\n",
       "</div>"
      ],
      "text/plain": [
       "  Case_Number         Date    Year        Type    Country             Area  \\\n",
       "0  2018.06.25  25-Jun-2018  2018.0     Boating        USA       California   \n",
       "1  2018.06.18  18-Jun-2018  2018.0  Unprovoked        USA          Georgia   \n",
       "2  2018.06.09  09-Jun-2018  2018.0     Invalid        USA           Hawaii   \n",
       "3  2018.06.08  08-Jun-2018  2018.0  Unprovoked  AUSTRALIA  New South Wales   \n",
       "4  2018.06.04  04-Jun-2018  2018.0    Provoked     MEXICO           Colima   \n",
       "\n",
       "                         Location     Activity             Name Sex_  Age  \\\n",
       "0     Oceanside, San Diego County     Paddling      Julie Wolfe    F   57   \n",
       "1  St. Simon Island, Glynn County     Standing  Adyson McNeely     F   11   \n",
       "2                    Habush, Oahu      Surfing      John Denges    M   48   \n",
       "3              Arrawarra Headland      Surfing             male    M  NaN   \n",
       "4                        La Ticla  Free diving   Gustavo Ramos     M  NaN   \n",
       "\n",
       "                                              Injury Fatal_(Y/N)  \\\n",
       "0  No injury to occupant, outrigger canoe and pad...           N   \n",
       "1                         Minor injury to left thigh           N   \n",
       "2       Injury to left lower leg from surfboard skeg           N   \n",
       "3                          Minor injury to lower leg           N   \n",
       "4  Lacerations to leg & hand shark PROVOKED INCIDENT           N   \n",
       "\n",
       "            Time         Species_          Investigator_or_Source  \\\n",
       "0          18h00      White shark                R. Collier, GSAF   \n",
       "1  14h00  -15h00              NaN  K.McMurray, TrackingSharks.com   \n",
       "2          07h45              NaN  K.McMurray, TrackingSharks.com   \n",
       "3            NaN        2 m shark                  B. Myatt, GSAF   \n",
       "4            NaN  Tiger shark, 3m                       A .Kipper   \n",
       "\n",
       "   original_order  \n",
       "0          6303.0  \n",
       "1          6302.0  \n",
       "2          6301.0  \n",
       "3          6300.0  \n",
       "4          6299.0  "
      ]
     },
     "execution_count": 39,
     "metadata": {},
     "output_type": "execute_result"
    }
   ],
   "source": [
    "#work data frame\n",
    "sh.head()"
   ]
  },
  {
   "cell_type": "markdown",
   "id": "9d8059c4",
   "metadata": {},
   "source": [
    "## Clean the data\n",
    "### NAN values\n"
   ]
  },
  {
   "cell_type": "code",
   "execution_count": 54,
   "id": "dbd3d6e0",
   "metadata": {},
   "outputs": [
    {
     "data": {
      "text/plain": [
       "Case_Number                  1\n",
       "Date                         0\n",
       "Year                         2\n",
       "Type                         4\n",
       "Country                     50\n",
       "Area                       454\n",
       "Location                   540\n",
       "Activity                   542\n",
       "Name                       209\n",
       "Sex_                       564\n",
       "Age                       2821\n",
       "Injury                      28\n",
       "Fatal_(Y/N)                535\n",
       "Time                      3342\n",
       "Species_                  2832\n",
       "Investigator_or_Source      17\n",
       "original_order               0\n",
       "dtype: int64"
      ]
     },
     "execution_count": 54,
     "metadata": {},
     "output_type": "execute_result"
    }
   ],
   "source": [
    "sh.isnull().sum()"
   ]
  },
  {
   "cell_type": "markdown",
   "id": "2f9410c6",
   "metadata": {},
   "source": [
    "## drop NaN rows"
   ]
  },
  {
   "cell_type": "code",
   "execution_count": 42,
   "id": "2a2f204d",
   "metadata": {},
   "outputs": [],
   "source": [
    "sh.dropna(axis=0, how = \"all\",inplace=True)"
   ]
  },
  {
   "cell_type": "code",
   "execution_count": 43,
   "id": "553a2a29",
   "metadata": {},
   "outputs": [
    {
     "data": {
      "text/plain": [
       "(8703, 17)"
      ]
     },
     "execution_count": 43,
     "metadata": {},
     "output_type": "execute_result"
    }
   ],
   "source": [
    "sh.shape"
   ]
  },
  {
   "cell_type": "code",
   "execution_count": 44,
   "id": "4b3636e2",
   "metadata": {},
   "outputs": [],
   "source": [
    "sh.drop_duplicates(inplace=True)"
   ]
  },
  {
   "cell_type": "code",
   "execution_count": 45,
   "id": "1e53bff9",
   "metadata": {},
   "outputs": [
    {
     "data": {
      "text/plain": [
       "(6311, 17)"
      ]
     },
     "execution_count": 45,
     "metadata": {},
     "output_type": "execute_result"
    }
   ],
   "source": [
    "sh.shape"
   ]
  },
  {
   "cell_type": "code",
   "execution_count": 46,
   "id": "cc240293",
   "metadata": {},
   "outputs": [
    {
     "data": {
      "text/plain": [
       "(6288, 17)"
      ]
     },
     "execution_count": 46,
     "metadata": {},
     "output_type": "execute_result"
    }
   ],
   "source": [
    "sh.drop_duplicates(subset=['Case_Number'],inplace=True)\n",
    "sh.shape"
   ]
  },
  {
   "cell_type": "markdown",
   "id": "49d3ea63",
   "metadata": {},
   "source": [
    "## ask for odd cases *"
   ]
  },
  {
   "cell_type": "code",
   "execution_count": null,
   "id": "522cde3f",
   "metadata": {},
   "outputs": [],
   "source": [
    "sh.drop([6302,25722], axis=0, inplace=True)"
   ]
  },
  {
   "cell_type": "code",
   "execution_count": 56,
   "id": "1436fc07",
   "metadata": {},
   "outputs": [
    {
     "data": {
      "text/plain": [
       "(6286, 17)"
      ]
     },
     "execution_count": 56,
     "metadata": {},
     "output_type": "execute_result"
    }
   ],
   "source": [
    "sh.shape"
   ]
  },
  {
   "cell_type": "markdown",
   "id": "3f43be42",
   "metadata": {},
   "source": [
    "## fill NaN values"
   ]
  },
  {
   "cell_type": "code",
   "execution_count": 50,
   "id": "7ee71fd7",
   "metadata": {},
   "outputs": [
    {
     "data": {
      "text/plain": [
       "0        2018.0\n",
       "1        2018.0\n",
       "2        2018.0\n",
       "3        2018.0\n",
       "4        2018.0\n",
       "          ...  \n",
       "6299        0.0\n",
       "6300        0.0\n",
       "6301        0.0\n",
       "6302        0.0\n",
       "25722       0.0\n",
       "Name: Year, Length: 6288, dtype: float64"
      ]
     },
     "execution_count": 50,
     "metadata": {},
     "output_type": "execute_result"
    }
   ],
   "source": [
    "sh.Year.interpolate(method='linear', limit_direction='forward', axis=0)"
   ]
  },
  {
   "cell_type": "markdown",
   "id": "61388d8a",
   "metadata": {},
   "source": [
    "### pick object columns  **"
   ]
  },
  {
   "cell_type": "code",
   "execution_count": 27,
   "id": "e9825865",
   "metadata": {},
   "outputs": [
    {
     "name": "stdout",
     "output_type": "stream",
     "text": [
      "['Case_Number', 'Date', 'Type', 'Country', 'Area', 'Location', 'Activity', 'Name', 'Sex_', 'Age', 'Injury', 'Fatal_(Y/N)', 'Time', 'Species_', 'Investigator_or_Source']\n"
     ]
    }
   ],
   "source": [
    "string = list(sh.select_dtypes(include=\"object\").columns) \n",
    "print(string)"
   ]
  },
  {
   "cell_type": "code",
   "execution_count": 26,
   "id": "d4d2ae24",
   "metadata": {},
   "outputs": [
    {
     "name": "stderr",
     "output_type": "stream",
     "text": [
      "/home/alejandro/.local/lib/python3.8/site-packages/pandas/core/frame.py:5171: SettingWithCopyWarning: \n",
      "A value is trying to be set on a copy of a slice from a DataFrame\n",
      "\n",
      "See the caveats in the documentation: https://pandas.pydata.org/pandas-docs/stable/user_guide/indexing.html#returning-a-view-versus-a-copy\n",
      "  return super().fillna(\n"
     ]
    },
    {
     "data": {
      "text/html": [
       "<div>\n",
       "<style scoped>\n",
       "    .dataframe tbody tr th:only-of-type {\n",
       "        vertical-align: middle;\n",
       "    }\n",
       "\n",
       "    .dataframe tbody tr th {\n",
       "        vertical-align: top;\n",
       "    }\n",
       "\n",
       "    .dataframe thead th {\n",
       "        text-align: right;\n",
       "    }\n",
       "</style>\n",
       "<table border=\"1\" class=\"dataframe\">\n",
       "  <thead>\n",
       "    <tr style=\"text-align: right;\">\n",
       "      <th></th>\n",
       "      <th>Case_Number</th>\n",
       "      <th>Date</th>\n",
       "      <th>Year</th>\n",
       "      <th>Type</th>\n",
       "      <th>Country</th>\n",
       "      <th>Area</th>\n",
       "      <th>Location</th>\n",
       "      <th>Activity</th>\n",
       "      <th>Name</th>\n",
       "      <th>Sex_</th>\n",
       "      <th>Age</th>\n",
       "      <th>Injury</th>\n",
       "      <th>Fatal_(Y/N)</th>\n",
       "      <th>Time</th>\n",
       "      <th>Species_</th>\n",
       "      <th>Investigator_or_Source</th>\n",
       "      <th>original_order</th>\n",
       "    </tr>\n",
       "  </thead>\n",
       "  <tbody>\n",
       "    <tr>\n",
       "      <th>6298</th>\n",
       "      <td>ND.0004</td>\n",
       "      <td>Before 1903</td>\n",
       "      <td>0.0</td>\n",
       "      <td>Unprovoked</td>\n",
       "      <td>AUSTRALIA</td>\n",
       "      <td>Western Australia</td>\n",
       "      <td>NaN</td>\n",
       "      <td>Pearl diving</td>\n",
       "      <td>Ahmun</td>\n",
       "      <td>M</td>\n",
       "      <td>NaN</td>\n",
       "      <td>FATAL</td>\n",
       "      <td>Y</td>\n",
       "      <td>NaN</td>\n",
       "      <td>NaN</td>\n",
       "      <td>H. Taunton; N. Bartlett,  pp. 233-234</td>\n",
       "      <td>5.0</td>\n",
       "    </tr>\n",
       "    <tr>\n",
       "      <th>6299</th>\n",
       "      <td>ND.0003</td>\n",
       "      <td>1900-1905</td>\n",
       "      <td>0.0</td>\n",
       "      <td>Unprovoked</td>\n",
       "      <td>USA</td>\n",
       "      <td>North Carolina</td>\n",
       "      <td>Ocracoke Inlet</td>\n",
       "      <td>Swimming</td>\n",
       "      <td>Coast Guard personnel</td>\n",
       "      <td>M</td>\n",
       "      <td>NaN</td>\n",
       "      <td>FATAL</td>\n",
       "      <td>Y</td>\n",
       "      <td>NaN</td>\n",
       "      <td>NaN</td>\n",
       "      <td>F. Schwartz, p.23; C. Creswell, GSAF</td>\n",
       "      <td>4.0</td>\n",
       "    </tr>\n",
       "    <tr>\n",
       "      <th>6300</th>\n",
       "      <td>ND.0002</td>\n",
       "      <td>1883-1889</td>\n",
       "      <td>0.0</td>\n",
       "      <td>Unprovoked</td>\n",
       "      <td>PANAMA</td>\n",
       "      <td>NaN</td>\n",
       "      <td>Panama Bay 8ºN, 79ºW</td>\n",
       "      <td>NaN</td>\n",
       "      <td>Jules Patterson</td>\n",
       "      <td>M</td>\n",
       "      <td>NaN</td>\n",
       "      <td>FATAL</td>\n",
       "      <td>Y</td>\n",
       "      <td>NaN</td>\n",
       "      <td>NaN</td>\n",
       "      <td>The Sun, 10/20/1938</td>\n",
       "      <td>3.0</td>\n",
       "    </tr>\n",
       "    <tr>\n",
       "      <th>6301</th>\n",
       "      <td>ND.0001</td>\n",
       "      <td>1845-1853</td>\n",
       "      <td>0.0</td>\n",
       "      <td>Unprovoked</td>\n",
       "      <td>CEYLON (SRI LANKA)</td>\n",
       "      <td>Eastern Province</td>\n",
       "      <td>Below the English fort, Trincomalee</td>\n",
       "      <td>Swimming</td>\n",
       "      <td>male</td>\n",
       "      <td>M</td>\n",
       "      <td>15</td>\n",
       "      <td>FATAL. \"Shark bit him in half, carrying away t...</td>\n",
       "      <td>Y</td>\n",
       "      <td>NaN</td>\n",
       "      <td>NaN</td>\n",
       "      <td>S.W. Baker</td>\n",
       "      <td>2.0</td>\n",
       "    </tr>\n",
       "    <tr>\n",
       "      <th>6302</th>\n",
       "      <td>0</td>\n",
       "      <td>NaN</td>\n",
       "      <td>NaN</td>\n",
       "      <td>NaN</td>\n",
       "      <td>NaN</td>\n",
       "      <td>NaN</td>\n",
       "      <td>NaN</td>\n",
       "      <td>NaN</td>\n",
       "      <td>NaN</td>\n",
       "      <td>NaN</td>\n",
       "      <td>NaN</td>\n",
       "      <td>NaN</td>\n",
       "      <td>NaN</td>\n",
       "      <td>NaN</td>\n",
       "      <td>NaN</td>\n",
       "      <td>NaN</td>\n",
       "      <td>6304.0</td>\n",
       "    </tr>\n",
       "    <tr>\n",
       "      <th>25722</th>\n",
       "      <td>xx</td>\n",
       "      <td>NaN</td>\n",
       "      <td>NaN</td>\n",
       "      <td>NaN</td>\n",
       "      <td>NaN</td>\n",
       "      <td>NaN</td>\n",
       "      <td>NaN</td>\n",
       "      <td>NaN</td>\n",
       "      <td>NaN</td>\n",
       "      <td>NaN</td>\n",
       "      <td>NaN</td>\n",
       "      <td>NaN</td>\n",
       "      <td>NaN</td>\n",
       "      <td>NaN</td>\n",
       "      <td>NaN</td>\n",
       "      <td>NaN</td>\n",
       "      <td>NaN</td>\n",
       "    </tr>\n",
       "  </tbody>\n",
       "</table>\n",
       "</div>"
      ],
      "text/plain": [
       "      Case_Number         Date  Year        Type             Country  \\\n",
       "6298      ND.0004  Before 1903   0.0  Unprovoked           AUSTRALIA   \n",
       "6299      ND.0003    1900-1905   0.0  Unprovoked                 USA   \n",
       "6300      ND.0002    1883-1889   0.0  Unprovoked              PANAMA   \n",
       "6301      ND.0001    1845-1853   0.0  Unprovoked  CEYLON (SRI LANKA)   \n",
       "6302            0          NaN   NaN         NaN                 NaN   \n",
       "25722          xx          NaN   NaN         NaN                 NaN   \n",
       "\n",
       "                    Area                             Location      Activity  \\\n",
       "6298   Western Australia                                  NaN  Pearl diving   \n",
       "6299      North Carolina                       Ocracoke Inlet      Swimming   \n",
       "6300                 NaN                 Panama Bay 8ºN, 79ºW           NaN   \n",
       "6301    Eastern Province  Below the English fort, Trincomalee      Swimming   \n",
       "6302                 NaN                                  NaN           NaN   \n",
       "25722                NaN                                  NaN           NaN   \n",
       "\n",
       "                        Name Sex_  Age  \\\n",
       "6298                   Ahmun    M  NaN   \n",
       "6299   Coast Guard personnel    M  NaN   \n",
       "6300         Jules Patterson    M  NaN   \n",
       "6301                    male    M   15   \n",
       "6302                     NaN  NaN  NaN   \n",
       "25722                    NaN  NaN  NaN   \n",
       "\n",
       "                                                  Injury Fatal_(Y/N) Time  \\\n",
       "6298                                               FATAL           Y  NaN   \n",
       "6299                                               FATAL           Y  NaN   \n",
       "6300                                               FATAL           Y  NaN   \n",
       "6301   FATAL. \"Shark bit him in half, carrying away t...           Y  NaN   \n",
       "6302                                                 NaN         NaN  NaN   \n",
       "25722                                                NaN         NaN  NaN   \n",
       "\n",
       "      Species_                 Investigator_or_Source  original_order  \n",
       "6298       NaN  H. Taunton; N. Bartlett,  pp. 233-234             5.0  \n",
       "6299       NaN   F. Schwartz, p.23; C. Creswell, GSAF             4.0  \n",
       "6300       NaN                    The Sun, 10/20/1938             3.0  \n",
       "6301       NaN                             S.W. Baker             2.0  \n",
       "6302       NaN                                    NaN          6304.0  \n",
       "25722      NaN                                    NaN             NaN  "
      ]
     },
     "execution_count": 26,
     "metadata": {},
     "output_type": "execute_result"
    }
   ],
   "source": [
    "sh[string].fillna(\"unknown\", inplace=True)\n",
    "sh.tail(6)"
   ]
  },
  {
   "cell_type": "markdown",
   "id": "da271c63",
   "metadata": {},
   "source": [
    "## done the fools way"
   ]
  },
  {
   "cell_type": "code",
   "execution_count": 59,
   "id": "50c73175",
   "metadata": {
    "scrolled": true
   },
   "outputs": [],
   "source": [
    "sh.fillna(\"unkown\",inplace=True)"
   ]
  },
  {
   "cell_type": "code",
   "execution_count": 60,
   "id": "eb8c39f1",
   "metadata": {},
   "outputs": [
    {
     "data": {
      "text/plain": [
       "USA                       2222\n",
       "AUSTRALIA                 1336\n",
       "SOUTH AFRICA               577\n",
       "PAPUA NEW GUINEA           134\n",
       "NEW ZEALAND                127\n",
       "                          ... \n",
       "MALDIVE ISLANDS              1\n",
       "NICARAGUA                    1\n",
       "NORTH SEA                    1\n",
       "RED SEA / INDIAN OCEAN       1\n",
       "CEYLON (SRI LANKA)           1\n",
       "Name: Country, Length: 213, dtype: int64"
      ]
     },
     "execution_count": 60,
     "metadata": {},
     "output_type": "execute_result"
    }
   ],
   "source": [
    "sh.Country.value_counts()"
   ]
  },
  {
   "cell_type": "code",
   "execution_count": 61,
   "id": "c60c0db0",
   "metadata": {},
   "outputs": [
    {
     "data": {
      "text/html": [
       "<div>\n",
       "<style scoped>\n",
       "    .dataframe tbody tr th:only-of-type {\n",
       "        vertical-align: middle;\n",
       "    }\n",
       "\n",
       "    .dataframe tbody tr th {\n",
       "        vertical-align: top;\n",
       "    }\n",
       "\n",
       "    .dataframe thead th {\n",
       "        text-align: right;\n",
       "    }\n",
       "</style>\n",
       "<table border=\"1\" class=\"dataframe\">\n",
       "  <thead>\n",
       "    <tr style=\"text-align: right;\">\n",
       "      <th></th>\n",
       "      <th>Case_Number</th>\n",
       "      <th>Date</th>\n",
       "      <th>Year</th>\n",
       "      <th>Type</th>\n",
       "      <th>Country</th>\n",
       "      <th>Area</th>\n",
       "      <th>Location</th>\n",
       "      <th>Activity</th>\n",
       "      <th>Name</th>\n",
       "      <th>Sex_</th>\n",
       "      <th>Age</th>\n",
       "      <th>Injury</th>\n",
       "      <th>Fatal_(Y/N)</th>\n",
       "      <th>Time</th>\n",
       "      <th>Species_</th>\n",
       "      <th>Investigator_or_Source</th>\n",
       "      <th>original_order</th>\n",
       "    </tr>\n",
       "  </thead>\n",
       "  <tbody>\n",
       "    <tr>\n",
       "      <th>6296</th>\n",
       "      <td>ND.0006</td>\n",
       "      <td>Before 1906</td>\n",
       "      <td>0.0</td>\n",
       "      <td>Unprovoked</td>\n",
       "      <td>AUSTRALIA</td>\n",
       "      <td>New South Wales</td>\n",
       "      <td></td>\n",
       "      <td>Swimming</td>\n",
       "      <td>Arab boy</td>\n",
       "      <td>M</td>\n",
       "      <td>unkown</td>\n",
       "      <td>FATAL</td>\n",
       "      <td>Y</td>\n",
       "      <td>unkown</td>\n",
       "      <td>Said to involve a grey nurse shark that leapt ...</td>\n",
       "      <td>L. Becke in New York Sun, 9/9/1906; L. Schultz...</td>\n",
       "      <td>7.0</td>\n",
       "    </tr>\n",
       "    <tr>\n",
       "      <th>6297</th>\n",
       "      <td>ND.0005</td>\n",
       "      <td>Before 1903</td>\n",
       "      <td>0.0</td>\n",
       "      <td>Unprovoked</td>\n",
       "      <td>AUSTRALIA</td>\n",
       "      <td>Western Australia</td>\n",
       "      <td>Roebuck Bay</td>\n",
       "      <td>Diving</td>\n",
       "      <td>male</td>\n",
       "      <td>M</td>\n",
       "      <td>unkown</td>\n",
       "      <td>FATAL</td>\n",
       "      <td>Y</td>\n",
       "      <td>unkown</td>\n",
       "      <td>unkown</td>\n",
       "      <td>H. Taunton; N. Bartlett,  p. 234</td>\n",
       "      <td>6.0</td>\n",
       "    </tr>\n",
       "    <tr>\n",
       "      <th>6298</th>\n",
       "      <td>ND.0004</td>\n",
       "      <td>Before 1903</td>\n",
       "      <td>0.0</td>\n",
       "      <td>Unprovoked</td>\n",
       "      <td>AUSTRALIA</td>\n",
       "      <td>Western Australia</td>\n",
       "      <td>unkown</td>\n",
       "      <td>Pearl diving</td>\n",
       "      <td>Ahmun</td>\n",
       "      <td>M</td>\n",
       "      <td>unkown</td>\n",
       "      <td>FATAL</td>\n",
       "      <td>Y</td>\n",
       "      <td>unkown</td>\n",
       "      <td>unkown</td>\n",
       "      <td>H. Taunton; N. Bartlett,  pp. 233-234</td>\n",
       "      <td>5.0</td>\n",
       "    </tr>\n",
       "    <tr>\n",
       "      <th>6299</th>\n",
       "      <td>ND.0003</td>\n",
       "      <td>1900-1905</td>\n",
       "      <td>0.0</td>\n",
       "      <td>Unprovoked</td>\n",
       "      <td>USA</td>\n",
       "      <td>North Carolina</td>\n",
       "      <td>Ocracoke Inlet</td>\n",
       "      <td>Swimming</td>\n",
       "      <td>Coast Guard personnel</td>\n",
       "      <td>M</td>\n",
       "      <td>unkown</td>\n",
       "      <td>FATAL</td>\n",
       "      <td>Y</td>\n",
       "      <td>unkown</td>\n",
       "      <td>unkown</td>\n",
       "      <td>F. Schwartz, p.23; C. Creswell, GSAF</td>\n",
       "      <td>4.0</td>\n",
       "    </tr>\n",
       "    <tr>\n",
       "      <th>6300</th>\n",
       "      <td>ND.0002</td>\n",
       "      <td>1883-1889</td>\n",
       "      <td>0.0</td>\n",
       "      <td>Unprovoked</td>\n",
       "      <td>PANAMA</td>\n",
       "      <td>unkown</td>\n",
       "      <td>Panama Bay 8ºN, 79ºW</td>\n",
       "      <td>unkown</td>\n",
       "      <td>Jules Patterson</td>\n",
       "      <td>M</td>\n",
       "      <td>unkown</td>\n",
       "      <td>FATAL</td>\n",
       "      <td>Y</td>\n",
       "      <td>unkown</td>\n",
       "      <td>unkown</td>\n",
       "      <td>The Sun, 10/20/1938</td>\n",
       "      <td>3.0</td>\n",
       "    </tr>\n",
       "    <tr>\n",
       "      <th>6301</th>\n",
       "      <td>ND.0001</td>\n",
       "      <td>1845-1853</td>\n",
       "      <td>0.0</td>\n",
       "      <td>Unprovoked</td>\n",
       "      <td>CEYLON (SRI LANKA)</td>\n",
       "      <td>Eastern Province</td>\n",
       "      <td>Below the English fort, Trincomalee</td>\n",
       "      <td>Swimming</td>\n",
       "      <td>male</td>\n",
       "      <td>M</td>\n",
       "      <td>15</td>\n",
       "      <td>FATAL. \"Shark bit him in half, carrying away t...</td>\n",
       "      <td>Y</td>\n",
       "      <td>unkown</td>\n",
       "      <td>unkown</td>\n",
       "      <td>S.W. Baker</td>\n",
       "      <td>2.0</td>\n",
       "    </tr>\n",
       "  </tbody>\n",
       "</table>\n",
       "</div>"
      ],
      "text/plain": [
       "     Case_Number         Date Year        Type             Country  \\\n",
       "6296     ND.0006  Before 1906  0.0  Unprovoked           AUSTRALIA   \n",
       "6297     ND.0005  Before 1903  0.0  Unprovoked           AUSTRALIA   \n",
       "6298     ND.0004  Before 1903  0.0  Unprovoked           AUSTRALIA   \n",
       "6299     ND.0003    1900-1905  0.0  Unprovoked                 USA   \n",
       "6300     ND.0002    1883-1889  0.0  Unprovoked              PANAMA   \n",
       "6301     ND.0001    1845-1853  0.0  Unprovoked  CEYLON (SRI LANKA)   \n",
       "\n",
       "                   Area                             Location      Activity  \\\n",
       "6296    New South Wales                                           Swimming   \n",
       "6297  Western Australia                          Roebuck Bay        Diving   \n",
       "6298  Western Australia                               unkown  Pearl diving   \n",
       "6299     North Carolina                       Ocracoke Inlet      Swimming   \n",
       "6300             unkown                 Panama Bay 8ºN, 79ºW        unkown   \n",
       "6301   Eastern Province  Below the English fort, Trincomalee      Swimming   \n",
       "\n",
       "                       Name Sex_     Age  \\\n",
       "6296               Arab boy    M  unkown   \n",
       "6297                   male    M  unkown   \n",
       "6298                  Ahmun    M  unkown   \n",
       "6299  Coast Guard personnel    M  unkown   \n",
       "6300        Jules Patterson    M  unkown   \n",
       "6301                   male    M      15   \n",
       "\n",
       "                                                 Injury Fatal_(Y/N)    Time  \\\n",
       "6296                                              FATAL           Y  unkown   \n",
       "6297                                              FATAL           Y  unkown   \n",
       "6298                                              FATAL           Y  unkown   \n",
       "6299                                              FATAL           Y  unkown   \n",
       "6300                                              FATAL           Y  unkown   \n",
       "6301  FATAL. \"Shark bit him in half, carrying away t...           Y  unkown   \n",
       "\n",
       "                                               Species_  \\\n",
       "6296  Said to involve a grey nurse shark that leapt ...   \n",
       "6297                                             unkown   \n",
       "6298                                             unkown   \n",
       "6299                                             unkown   \n",
       "6300                                             unkown   \n",
       "6301                                             unkown   \n",
       "\n",
       "                                 Investigator_or_Source  original_order  \n",
       "6296  L. Becke in New York Sun, 9/9/1906; L. Schultz...             7.0  \n",
       "6297                   H. Taunton; N. Bartlett,  p. 234             6.0  \n",
       "6298              H. Taunton; N. Bartlett,  pp. 233-234             5.0  \n",
       "6299               F. Schwartz, p.23; C. Creswell, GSAF             4.0  \n",
       "6300                                The Sun, 10/20/1938             3.0  \n",
       "6301                                         S.W. Baker             2.0  "
      ]
     },
     "execution_count": 61,
     "metadata": {},
     "output_type": "execute_result"
    }
   ],
   "source": [
    "sh.tail(6)"
   ]
  },
  {
   "cell_type": "markdown",
   "id": "d53afd68",
   "metadata": {},
   "source": [
    "## Invalid Type is unusable data"
   ]
  },
  {
   "cell_type": "code",
   "execution_count": 73,
   "id": "2b5bef94",
   "metadata": {},
   "outputs": [
    {
     "data": {
      "text/plain": [
       "array(['Boating', 'Unprovoked', 'Provoked', 'Questionable',\n",
       "       'Sea Disaster', 'unkown', 'Boat', 'Boatomg'], dtype=object)"
      ]
     },
     "execution_count": 73,
     "metadata": {},
     "output_type": "execute_result"
    }
   ],
   "source": [
    "sh.Type.unique()"
   ]
  },
  {
   "cell_type": "code",
   "execution_count": 70,
   "id": "a1823bfb",
   "metadata": {},
   "outputs": [
    {
     "data": {
      "text/plain": [
       "(5743, 17)"
      ]
     },
     "execution_count": 70,
     "metadata": {},
     "output_type": "execute_result"
    }
   ],
   "source": [
    "sh = sh[sh[\"Type\"] != \"Invalid\"]\n",
    "sh.shape\n"
   ]
  },
  {
   "cell_type": "markdown",
   "id": "1902a61a",
   "metadata": {},
   "source": [
    "## nueva columna Moon_phase\n",
    "### subset?"
   ]
  },
  {
   "cell_type": "code",
   "execution_count": null,
   "id": "c5112140",
   "metadata": {},
   "outputs": [],
   "source": [
    "sh[\"Moon_phase\"] = sh.Date.apply(moon_phase)"
   ]
  }
 ],
 "metadata": {
  "kernelspec": {
   "display_name": "Python 3 (ipykernel)",
   "language": "python",
   "name": "python3"
  },
  "language_info": {
   "codemirror_mode": {
    "name": "ipython",
    "version": 3
   },
   "file_extension": ".py",
   "mimetype": "text/x-python",
   "name": "python",
   "nbconvert_exporter": "python",
   "pygments_lexer": "ipython3",
   "version": "3.8.10"
  }
 },
 "nbformat": 4,
 "nbformat_minor": 5
}
